{
 "cells": [
  {
   "cell_type": "code",
   "execution_count": null,
   "metadata": {},
   "outputs": [],
   "source": [
    "import os\n",
    "import json\n",
    "import pandas"
   ]
  },
  {
   "cell_type": "code",
   "execution_count": null,
   "metadata": {},
   "outputs": [],
   "source": [
    "def save_property(context,source_file='',target_file=''):\n",
    "    #source_file = context.get_param('source_file')\n",
    "    #target_file = context.get_param('target_file')\n",
    "\n",
    "    fl = open(source_file,'r')\n",
    "    target_fl = open(target_file,'w')\n",
    "\n",
    "    for line in fl:\n",
    "        if 'Condo' in line:\n",
    "            target_fl.write(line)\n",
    "\n",
    "\n",
    "    target_fl.close()\n",
    "\n",
    "    print(f\"file saved to {target_file}\")"
   ]
  },
  {
   "cell_type": "code",
   "execution_count": null,
   "metadata": {},
   "outputs": [],
   "source": [
    "def filter_property(context):\n",
    "    source_file = context.get_param('source_file')\n",
    "    target_file = context.get_param('target_file')\n",
    "\n",
    "    fl = open(source_file,'r')\n",
    "    target_fl = open(target_file,'w')\n",
    "\n",
    "    for line in fl:\n",
    "        if 'Condo' in line:\n",
    "            print(line)"
   ]
  }
 ],
 "metadata": {
  "kernelspec": {
   "display_name": "Python 3",
   "language": "python",
   "name": "python3"
  },
  "language_info": {
   "codemirror_mode": {
    "name": "ipython",
    "version": 3
   },
   "file_extension": ".py",
   "mimetype": "text/x-python",
   "name": "python",
   "nbconvert_exporter": "python",
   "pygments_lexer": "ipython3",
   "version": "3.6.8"
  }
 },
 "nbformat": 4,
 "nbformat_minor": 4
}
