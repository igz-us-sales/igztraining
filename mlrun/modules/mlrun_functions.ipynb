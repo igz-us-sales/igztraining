{
 "cells": [
  {
   "cell_type": "code",
   "execution_count": null,
   "metadata": {},
   "outputs": [],
   "source": [
    "# nuclio: start-code"
   ]
  },
  {
   "cell_type": "code",
   "execution_count": 39,
   "metadata": {},
   "outputs": [],
   "source": [
    "import os\n",
    "import json\n",
    "import pandas as pd"
   ]
  },
  {
   "cell_type": "code",
   "execution_count": 40,
   "metadata": {},
   "outputs": [],
   "source": [
    "def save_property(context,source_file='',target_file=''):\n",
    "    #source_file = context.get_param('source_file')\n",
    "    #target_file = context.get_param('target_file')\n",
    "    print(source_file)\n",
    "    all_properties_df = pd.read_csv(source_file)\n",
    "    condo_properties_df = all_properties_df[all_properties_df[\"type\"]==\"Condo\"]\n",
    "    \n",
    "    # Record a result \n",
    "    context.log_result('properties_available',condo_properties_df.shape[0])\n",
    "    \n",
    "    #Record a Dataset\n",
    "    context.log_dataset('condo_properties',df=condo_properties_df,format=\"CSV\")\n",
    "    return"
   ]
  },
  {
   "cell_type": "code",
   "execution_count": 41,
   "metadata": {},
   "outputs": [],
   "source": [
    "def filter_property(context):\n",
    "    source_file = context.get_param('source_file')\n",
    "    target_file = context.get_param('target_file')\n",
    "\n",
    "    fl = open(source_file,'r')\n",
    "    target_fl = open(target_file,'w')\n",
    "\n",
    "    for line in fl:\n",
    "        if 'Condo' in line:\n",
    "            print(line)"
   ]
  },
  {
   "cell_type": "code",
   "execution_count": 36,
   "metadata": {},
   "outputs": [],
   "source": [
    "# nuclio: end-code"
   ]
  },
  {
   "cell_type": "markdown",
   "metadata": {},
   "source": [
    "## Code testing - will not be included in MLRun"
   ]
  },
  {
   "cell_type": "code",
   "execution_count": 37,
   "metadata": {},
   "outputs": [],
   "source": [
    "source_file = \"/User/igztraining/mlrun/data/demo.csv\"\n",
    "target_file = \"/User/igztraining/mlrun/data/condos.csv\" "
   ]
  },
  {
   "cell_type": "code",
   "execution_count": 38,
   "metadata": {},
   "outputs": [
    {
     "name": "stdout",
     "output_type": "stream",
     "text": [
      "/User/igztraining/mlrun/data/demo.csv\n"
     ]
    }
   ],
   "source": [
    "df = save_property(mlrun_ctx,source_file=source_file,target_file=target_file)"
   ]
  },
  {
   "cell_type": "code",
   "execution_count": null,
   "metadata": {},
   "outputs": [],
   "source": []
  },
  {
   "cell_type": "code",
   "execution_count": null,
   "metadata": {},
   "outputs": [],
   "source": []
  }
 ],
 "metadata": {
  "kernelspec": {
   "display_name": "Python [conda env:.conda-mlrun-0.5.1]",
   "language": "python",
   "name": "conda-env-.conda-mlrun-0.5.1-py"
  },
  "language_info": {
   "codemirror_mode": {
    "name": "ipython",
    "version": 3
   },
   "file_extension": ".py",
   "mimetype": "text/x-python",
   "name": "python",
   "nbconvert_exporter": "python",
   "pygments_lexer": "ipython3",
   "version": "3.7.7"
  }
 },
 "nbformat": 4,
 "nbformat_minor": 4
}
