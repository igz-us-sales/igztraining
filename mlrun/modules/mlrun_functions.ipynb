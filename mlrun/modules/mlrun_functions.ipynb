{
 "cells": [
  {
   "cell_type": "code",
   "execution_count": 1,
   "metadata": {},
   "outputs": [],
   "source": [
    "# nuclio: start-code"
   ]
  },
  {
   "cell_type": "code",
   "execution_count": 1,
   "metadata": {},
   "outputs": [],
   "source": [
    "import os\n",
    "import json\n",
    "import pandas as pd\n",
    "from mlrun.datastore import DataItem"
   ]
  },
  {
   "cell_type": "code",
   "execution_count": 2,
   "metadata": {},
   "outputs": [],
   "source": [
    "def save_properties(context,source_file='',target_file=''):\n",
    "    #source_file = context.get_param('source_file')\n",
    "    #target_file = context.get_param('target_file')\n",
    "    print(source_file)\n",
    "    all_properties_df = pd.read_csv(source_file)\n",
    "    condo_properties_df = all_properties_df[all_properties_df[\"type\"]==\"Condo\"]\n",
    "    \n",
    "    # Record a result \n",
    "    context.log_result('properties_available',condo_properties_df.shape[0])\n",
    "    \n",
    "    #Record a Dataset\n",
    "    context.log_dataset('condo_properties',df=condo_properties_df,format=\"CSV\")\n",
    "    return"
   ]
  },
  {
   "cell_type": "code",
   "execution_count": 3,
   "metadata": {},
   "outputs": [],
   "source": [
    "def filter_properties(context,\n",
    "                      source_data: DataItem,\n",
    "                      target_dataset='',\n",
    "                      city=''):\n",
    "        \n",
    "    df = source_data.as_df()\n",
    "    \n",
    "    city_df = df[df[\"city\"]==city]\n",
    "    \n",
    "    context.log_dataset(target_dataset,df=city_df,format=\"csv\")"
   ]
  },
  {
   "cell_type": "code",
   "execution_count": 4,
   "metadata": {},
   "outputs": [],
   "source": [
    "# nuclio: end-code"
   ]
  },
  {
   "cell_type": "markdown",
   "metadata": {},
   "source": [
    "# Save as market function"
   ]
  },
  {
   "cell_type": "code",
   "execution_count": 2,
   "metadata": {},
   "outputs": [],
   "source": [
    "from mlrun import code_to_function\n",
    "\n",
    "# create job function object from notebook code\n",
    "fn = code_to_function(\"properties-management\",kind='job')"
   ]
  },
  {
   "cell_type": "code",
   "execution_count": 4,
   "metadata": {
    "scrolled": true
   },
   "outputs": [
    {
     "name": "stdout",
     "output_type": "stream",
     "text": [
      "> 2020-11-17 19:33:43,023 [info] running build to add mlrun package, set with_mlrun=False to skip if its already in the image\n",
      "> 2020-11-17 19:33:43,034 [info] starting remote build, image: .mlrun/func-default-properties-management-v2\n",
      "\u001b[36mINFO\u001b[0m[0000] Resolved base name mlrun/mlrun:0.5.4 to mlrun/mlrun:0.5.4 \n",
      "\u001b[36mINFO\u001b[0m[0000] Resolved base name mlrun/mlrun:0.5.4 to mlrun/mlrun:0.5.4 \n",
      "\u001b[36mINFO\u001b[0m[0000] Retrieving image manifest mlrun/mlrun:0.5.4  \n",
      "\u001b[36mINFO\u001b[0m[0000] Retrieving image manifest mlrun/mlrun:0.5.4  \n",
      "\u001b[36mINFO\u001b[0m[0000] Built cross stage deps: map[]                \n",
      "\u001b[36mINFO\u001b[0m[0000] Retrieving image manifest mlrun/mlrun:0.5.4  \n",
      "\u001b[36mINFO\u001b[0m[0000] Retrieving image manifest mlrun/mlrun:0.5.4  \n",
      "\u001b[36mINFO\u001b[0m[0001] Unpacking rootfs as cmd RUN pip install mlrun requires it. \n",
      "\u001b[36mINFO\u001b[0m[0023] Taking snapshot of full filesystem...        \n",
      "\u001b[36mINFO\u001b[0m[0032] Resolving paths                              \n",
      "\u001b[36mINFO\u001b[0m[0038] RUN pip install mlrun                        \n",
      "\u001b[36mINFO\u001b[0m[0038] cmd: /bin/sh                                 \n",
      "\u001b[36mINFO\u001b[0m[0038] args: [-c pip install mlrun]                 \n",
      "Requirement already satisfied: mlrun in /usr/local/lib/python3.7/site-packages (0.5.4)\n",
      "Requirement already satisfied: nuclio-jupyter>=0.8.7 in /usr/local/lib/python3.7/site-packages (from mlrun) (0.8.7)\n",
      "Requirement already satisfied: ipython<7.17,>=5.5 in /usr/local/lib/python3.7/site-packages (from mlrun) (7.16.1)\n",
      "Requirement already satisfied: v3io>=0.3.3 in /usr/local/lib/python3.7/site-packages (from mlrun) (0.5.3)\n",
      "Requirement already satisfied: scikit-learn in /usr/local/lib/python3.7/site-packages (from mlrun) (0.23.2)\n",
      "Requirement already satisfied: GitPython>=2.1.0 in /usr/local/lib/python3.7/site-packages (from mlrun) (3.1.11)\n",
      "Requirement already satisfied: pandas>=1.0.1 in /usr/local/lib/python3.7/site-packages (from mlrun) (1.1.4)\n",
      "Requirement already satisfied: tabulate<=0.8.3,>=0.8.0 in /usr/local/lib/python3.7/site-packages (from mlrun) (0.8.3)\n",
      "Requirement already satisfied: matplotlib in /usr/local/lib/python3.7/site-packages (from mlrun) (3.3.2)\n",
      "Requirement already satisfied: seaborn in /usr/local/lib/python3.7/site-packages (from mlrun) (0.11.0)\n",
      "Requirement already satisfied: pyyaml>=5.1.0 in /usr/local/lib/python3.7/site-packages (from mlrun) (5.3.1)\n",
      "Requirement already satisfied: orjson<3.4,>=3 in /usr/local/lib/python3.7/site-packages (from mlrun) (3.3.1)\n",
      "Requirement already satisfied: pydantic~=1.5 in /usr/local/lib/python3.7/site-packages (from mlrun) (1.7.2)\n",
      "Requirement already satisfied: docutils<0.16,>=0.13.1 in /usr/local/lib/python3.7/site-packages (from mlrun) (0.15.2)\n",
      "Requirement already satisfied: azure-storage-blob in /usr/local/lib/python3.7/site-packages (from mlrun) (12.5.0)\n",
      "Requirement already satisfied: requests>=2.20.1 in /usr/local/lib/python3.7/site-packages (from mlrun) (2.24.0)\n",
      "Requirement already satisfied: urllib3<1.25,>=1.24.2 in /usr/local/lib/python3.7/site-packages (from mlrun) (1.24.3)\n",
      "Requirement already satisfied: sqlalchemy>=1.3.0 in /usr/local/lib/python3.7/site-packages (from mlrun) (1.3.20)\n",
      "Requirement already satisfied: pyarrow>=0.13 in /usr/local/lib/python3.7/site-packages (from mlrun) (2.0.0)\n",
      "Requirement already satisfied: click==7.0 in /usr/local/lib/python3.7/site-packages (from mlrun) (7.0)\n",
      "Requirement already satisfied: nest-asyncio>=1.0.0 in /usr/local/lib/python3.7/site-packages (from mlrun) (1.4.2)\n",
      "Requirement already satisfied: kfp==0.2.5 in /usr/local/lib/python3.7/site-packages (from mlrun) (0.2.5)\n",
      "Requirement already satisfied: aiohttp<4.0.0dev,>=3.6.2 in /usr/local/lib/python3.7/site-packages (from mlrun) (3.7.2)\n",
      "Requirement already satisfied: boto3<1.16,>=1.9 in /usr/local/lib/python3.7/site-packages (from mlrun) (1.15.18)\n",
      "Requirement already satisfied: google-auth<2.0dev,>=1.19.1 in /usr/local/lib/python3.7/site-packages (from mlrun) (1.23.0)\n",
      "Requirement already satisfied: nbconvert>=5.4 in /usr/local/lib/python3.7/site-packages (from nuclio-jupyter>=0.8.7->mlrun) (6.0.7)\n",
      "Requirement already satisfied: notebook>=5.2.0 in /usr/local/lib/python3.7/site-packages (from nuclio-jupyter>=0.8.7->mlrun) (6.1.5)\n",
      "Requirement already satisfied: backcall in /usr/local/lib/python3.7/site-packages (from ipython<7.17,>=5.5->mlrun) (0.2.0)\n",
      "Requirement already satisfied: pickleshare in /usr/local/lib/python3.7/site-packages (from ipython<7.17,>=5.5->mlrun) (0.7.5)\n",
      "Requirement already satisfied: decorator in /usr/local/lib/python3.7/site-packages (from ipython<7.17,>=5.5->mlrun) (4.4.2)\n",
      "Requirement already satisfied: traitlets>=4.2 in /usr/local/lib/python3.7/site-packages (from ipython<7.17,>=5.5->mlrun) (5.0.5)\n",
      "Requirement already satisfied: setuptools>=18.5 in /usr/local/lib/python3.7/site-packages (from ipython<7.17,>=5.5->mlrun) (50.3.2)\n",
      "Requirement already satisfied: jedi>=0.10 in /usr/local/lib/python3.7/site-packages (from ipython<7.17,>=5.5->mlrun) (0.17.2)\n",
      "Requirement already satisfied: prompt-toolkit!=3.0.0,!=3.0.1,<3.1.0,>=2.0.0 in /usr/local/lib/python3.7/site-packages (from ipython<7.17,>=5.5->mlrun) (3.0.8)\n",
      "Requirement already satisfied: pygments in /usr/local/lib/python3.7/site-packages (from ipython<7.17,>=5.5->mlrun) (2.7.2)\n",
      "Requirement already satisfied: pexpect; sys_platform != \"win32\" in /usr/local/lib/python3.7/site-packages (from ipython<7.17,>=5.5->mlrun) (4.8.0)\n",
      "Requirement already satisfied: ujson~=2.0 in /usr/local/lib/python3.7/site-packages (from v3io>=0.3.3->mlrun) (2.0.3)\n",
      "Requirement already satisfied: future>=0.18.2 in /usr/local/lib/python3.7/site-packages (from v3io>=0.3.3->mlrun) (0.18.2)\n",
      "Requirement already satisfied: threadpoolctl>=2.0.0 in /usr/local/lib/python3.7/site-packages (from scikit-learn->mlrun) (2.1.0)\n",
      "Requirement already satisfied: numpy>=1.13.3 in /usr/local/lib/python3.7/site-packages (from scikit-learn->mlrun) (1.19.4)\n",
      "Requirement already satisfied: joblib>=0.11 in /usr/local/lib/python3.7/site-packages (from scikit-learn->mlrun) (0.17.0)\n",
      "Requirement already satisfied: scipy>=0.19.1 in /usr/local/lib/python3.7/site-packages (from scikit-learn->mlrun) (1.5.4)\n",
      "Requirement already satisfied: gitdb<5,>=4.0.1 in /usr/local/lib/python3.7/site-packages (from GitPython>=2.1.0->mlrun) (4.0.5)\n",
      "Requirement already satisfied: pytz>=2017.2 in /usr/local/lib/python3.7/site-packages (from pandas>=1.0.1->mlrun) (2020.4)\n",
      "Requirement already satisfied: python-dateutil>=2.7.3 in /usr/local/lib/python3.7/site-packages (from pandas>=1.0.1->mlrun) (2.8.1)\n",
      "Requirement already satisfied: kiwisolver>=1.0.1 in /usr/local/lib/python3.7/site-packages (from matplotlib->mlrun) (1.3.1)\n",
      "Requirement already satisfied: cycler>=0.10 in /usr/local/lib/python3.7/site-packages (from matplotlib->mlrun) (0.10.0)\n",
      "Requirement already satisfied: pillow>=6.2.0 in /usr/local/lib/python3.7/site-packages (from matplotlib->mlrun) (8.0.1)\n",
      "Requirement already satisfied: certifi>=2020.06.20 in /usr/local/lib/python3.7/site-packages (from matplotlib->mlrun) (2020.11.8)\n",
      "Requirement already satisfied: pyparsing!=2.0.4,!=2.1.2,!=2.1.6,>=2.0.3 in /usr/local/lib/python3.7/site-packages (from matplotlib->mlrun) (2.4.7)\n",
      "Requirement already satisfied: cryptography>=2.1.4 in /usr/local/lib/python3.7/site-packages (from azure-storage-blob->mlrun) (3.2.1)\n",
      "Requirement already satisfied: msrest>=0.6.10 in /usr/local/lib/python3.7/site-packages (from azure-storage-blob->mlrun) (0.6.19)\n",
      "Requirement already satisfied: azure-core<2.0.0,>=1.6.0 in /usr/local/lib/python3.7/site-packages (from azure-storage-blob->mlrun) (1.9.0)\n",
      "Requirement already satisfied: idna<3,>=2.5 in /usr/local/lib/python3.7/site-packages (from requests>=2.20.1->mlrun) (2.10)\n",
      "Requirement already satisfied: chardet<4,>=3.0.2 in /usr/local/lib/python3.7/site-packages (from requests>=2.20.1->mlrun) (3.0.4)\n",
      "Requirement already satisfied: strip-hints in /usr/local/lib/python3.7/site-packages (from kfp==0.2.5->mlrun) (0.1.9)\n",
      "Requirement already satisfied: cloudpickle==1.1.1 in /usr/local/lib/python3.7/site-packages (from kfp==0.2.5->mlrun) (1.1.1)\n",
      "Requirement already satisfied: six>=1.10 in /usr/local/lib/python3.7/site-packages (from kfp==0.2.5->mlrun) (1.15.0)\n",
      "Requirement already satisfied: google-cloud-storage>=1.13.0 in /usr/local/lib/python3.7/site-packages (from kfp==0.2.5->mlrun) (1.32.0)\n",
      "Requirement already satisfied: kubernetes<=10.0.0,>=8.0.0 in /usr/local/lib/python3.7/site-packages (from kfp==0.2.5->mlrun) (10.0.0)\n",
      "Requirement already satisfied: argo-models==2.2.1a in /usr/local/lib/python3.7/site-packages (from kfp==0.2.5->mlrun) (2.2.1a0)\n",
      "Requirement already satisfied: jsonschema>=3.0.1 in /usr/local/lib/python3.7/site-packages (from kfp==0.2.5->mlrun) (3.2.0)\n",
      "Requirement already satisfied: kfp-server-api<=0.1.40,>=0.1.18 in /usr/local/lib/python3.7/site-packages (from kfp==0.2.5->mlrun) (0.1.40)\n",
      "Requirement already satisfied: requests-toolbelt>=0.8.0 in /usr/local/lib/python3.7/site-packages (from kfp==0.2.5->mlrun) (0.9.1)\n",
      "Requirement already satisfied: PyJWT>=1.6.4 in /usr/local/lib/python3.7/site-packages (from kfp==0.2.5->mlrun) (1.7.1)\n",
      "Requirement already satisfied: Deprecated in /usr/local/lib/python3.7/site-packages (from kfp==0.2.5->mlrun) (1.2.10)\n",
      "Requirement already satisfied: multidict<7.0,>=4.5 in /usr/local/lib/python3.7/site-packages (from aiohttp<4.0.0dev,>=3.6.2->mlrun) (5.0.0)\n",
      "Requirement already satisfied: yarl<2.0,>=1.0 in /usr/local/lib/python3.7/site-packages (from aiohttp<4.0.0dev,>=3.6.2->mlrun) (1.6.2)\n",
      "Requirement already satisfied: attrs>=17.3.0 in /usr/local/lib/python3.7/site-packages (from aiohttp<4.0.0dev,>=3.6.2->mlrun) (20.3.0)\n",
      "Requirement already satisfied: async-timeout<4.0,>=3.0 in /usr/local/lib/python3.7/site-packages (from aiohttp<4.0.0dev,>=3.6.2->mlrun) (3.0.1)\n",
      "Requirement already satisfied: typing-extensions>=3.6.5 in /usr/local/lib/python3.7/site-packages (from aiohttp<4.0.0dev,>=3.6.2->mlrun) (3.7.4.3)\n",
      "Requirement already satisfied: s3transfer<0.4.0,>=0.3.0 in /usr/local/lib/python3.7/site-packages (from boto3<1.16,>=1.9->mlrun) (0.3.3)\n",
      "Requirement already satisfied: jmespath<1.0.0,>=0.7.1 in /usr/local/lib/python3.7/site-packages (from boto3<1.16,>=1.9->mlrun) (0.10.0)\n",
      "Requirement already satisfied: botocore<1.19.0,>=1.18.18 in /usr/local/lib/python3.7/site-packages (from boto3<1.16,>=1.9->mlrun) (1.18.18)\n",
      "Requirement already satisfied: rsa<5,>=3.1.4; python_version >= \"3.5\" in /usr/local/lib/python3.7/site-packages (from google-auth<2.0dev,>=1.19.1->mlrun) (4.6)\n",
      "Requirement already satisfied: pyasn1-modules>=0.2.1 in /usr/local/lib/python3.7/site-packages (from google-auth<2.0dev,>=1.19.1->mlrun) (0.2.8)\n",
      "Requirement already satisfied: cachetools<5.0,>=2.0.0 in /usr/local/lib/python3.7/site-packages (from google-auth<2.0dev,>=1.19.1->mlrun) (4.1.1)\n",
      "Requirement already satisfied: pandocfilters>=1.4.1 in /usr/local/lib/python3.7/site-packages (from nbconvert>=5.4->nuclio-jupyter>=0.8.7->mlrun) (1.4.3)\n",
      "Requirement already satisfied: entrypoints>=0.2.2 in /usr/local/lib/python3.7/site-packages (from nbconvert>=5.4->nuclio-jupyter>=0.8.7->mlrun) (0.3)\n",
      "Requirement already satisfied: jinja2>=2.4 in /usr/local/lib/python3.7/site-packages (from nbconvert>=5.4->nuclio-jupyter>=0.8.7->mlrun) (2.11.2)\n",
      "Requirement already satisfied: bleach in /usr/local/lib/python3.7/site-packages (from nbconvert>=5.4->nuclio-jupyter>=0.8.7->mlrun) (3.2.1)\n",
      "Requirement already satisfied: jupyter-core in /usr/local/lib/python3.7/site-packages (from nbconvert>=5.4->nuclio-jupyter>=0.8.7->mlrun) (4.6.3)\n",
      "Requirement already satisfied: nbformat>=4.4 in /usr/local/lib/python3.7/site-packages (from nbconvert>=5.4->nuclio-jupyter>=0.8.7->mlrun) (5.0.8)\n",
      "Requirement already satisfied: mistune<2,>=0.8.1 in /usr/local/lib/python3.7/site-packages (from nbconvert>=5.4->nuclio-jupyter>=0.8.7->mlrun) (0.8.4)\n",
      "Requirement already satisfied: defusedxml in /usr/local/lib/python3.7/site-packages (from nbconvert>=5.4->nuclio-jupyter>=0.8.7->mlrun) (0.6.0)\n",
      "Requirement already satisfied: nbclient<0.6.0,>=0.5.0 in /usr/local/lib/python3.7/site-packages (from nbconvert>=5.4->nuclio-jupyter>=0.8.7->mlrun) (0.5.1)\n",
      "Requirement already satisfied: jupyterlab-pygments in /usr/local/lib/python3.7/site-packages (from nbconvert>=5.4->nuclio-jupyter>=0.8.7->mlrun) (0.1.2)\n",
      "Requirement already satisfied: testpath in /usr/local/lib/python3.7/site-packages (from nbconvert>=5.4->nuclio-jupyter>=0.8.7->mlrun) (0.4.4)\n",
      "Requirement already satisfied: ipykernel in /usr/local/lib/python3.7/site-packages (from notebook>=5.2.0->nuclio-jupyter>=0.8.7->mlrun) (5.3.4)\n",
      "Requirement already satisfied: tornado>=5.0 in /usr/local/lib/python3.7/site-packages (from notebook>=5.2.0->nuclio-jupyter>=0.8.7->mlrun) (6.1)\n",
      "Requirement already satisfied: terminado>=0.8.3 in /usr/local/lib/python3.7/site-packages (from notebook>=5.2.0->nuclio-jupyter>=0.8.7->mlrun) (0.9.1)\n",
      "Requirement already satisfied: Send2Trash in /usr/local/lib/python3.7/site-packages (from notebook>=5.2.0->nuclio-jupyter>=0.8.7->mlrun) (1.5.0)\n",
      "Requirement already satisfied: jupyter-client>=5.3.4 in /usr/local/lib/python3.7/site-packages (from notebook>=5.2.0->nuclio-jupyter>=0.8.7->mlrun) (6.1.7)\n",
      "Requirement already satisfied: prometheus-client in /usr/local/lib/python3.7/site-packages (from notebook>=5.2.0->nuclio-jupyter>=0.8.7->mlrun) (0.8.0)\n",
      "Requirement already satisfied: pyzmq>=17 in /usr/local/lib/python3.7/site-packages (from notebook>=5.2.0->nuclio-jupyter>=0.8.7->mlrun) (19.0.2)\n",
      "Requirement already satisfied: argon2-cffi in /usr/local/lib/python3.7/site-packages (from notebook>=5.2.0->nuclio-jupyter>=0.8.7->mlrun) (20.1.0)\n",
      "Requirement already satisfied: ipython-genutils in /usr/local/lib/python3.7/site-packages (from notebook>=5.2.0->nuclio-jupyter>=0.8.7->mlrun) (0.2.0)\n",
      "Requirement already satisfied: parso<0.8.0,>=0.7.0 in /usr/local/lib/python3.7/site-packages (from jedi>=0.10->ipython<7.17,>=5.5->mlrun) (0.7.1)\n",
      "Requirement already satisfied: wcwidth in /usr/local/lib/python3.7/site-packages (from prompt-toolkit!=3.0.0,!=3.0.1,<3.1.0,>=2.0.0->ipython<7.17,>=5.5->mlrun) (0.2.5)\n",
      "Requirement already satisfied: ptyprocess>=0.5 in /usr/local/lib/python3.7/site-packages (from pexpect; sys_platform != \"win32\"->ipython<7.17,>=5.5->mlrun) (0.6.0)\n",
      "Requirement already satisfied: smmap<4,>=3.0.1 in /usr/local/lib/python3.7/site-packages (from gitdb<5,>=4.0.1->GitPython>=2.1.0->mlrun) (3.0.4)\n",
      "Requirement already satisfied: cffi!=1.11.3,>=1.8 in /usr/local/lib/python3.7/site-packages (from cryptography>=2.1.4->azure-storage-blob->mlrun) (1.14.3)\n",
      "Requirement already satisfied: isodate>=0.6.0 in /usr/local/lib/python3.7/site-packages (from msrest>=0.6.10->azure-storage-blob->mlrun) (0.6.0)\n",
      "Requirement already satisfied: requests-oauthlib>=0.5.0 in /usr/local/lib/python3.7/site-packages (from msrest>=0.6.10->azure-storage-blob->mlrun) (1.3.0)\n",
      "Requirement already satisfied: wheel in /usr/local/lib/python3.7/site-packages (from strip-hints->kfp==0.2.5->mlrun) (0.35.1)\n",
      "Requirement already satisfied: google-resumable-media<2.0dev,>=1.0.0 in /usr/local/lib/python3.7/site-packages (from google-cloud-storage>=1.13.0->kfp==0.2.5->mlrun) (1.1.0)\n",
      "Requirement already satisfied: google-cloud-core<2.0dev,>=1.4.1 in /usr/local/lib/python3.7/site-packages (from google-cloud-storage>=1.13.0->kfp==0.2.5->mlrun) (1.4.3)\n",
      "Requirement already satisfied: websocket-client!=0.40.0,!=0.41.*,!=0.42.*,>=0.32.0 in /usr/local/lib/python3.7/site-packages (from kubernetes<=10.0.0,>=8.0.0->kfp==0.2.5->mlrun) (0.57.0)\n",
      "Requirement already satisfied: importlib-metadata; python_version < \"3.8\" in /usr/local/lib/python3.7/site-packages (from jsonschema>=3.0.1->kfp==0.2.5->mlrun) (2.0.0)\n",
      "Requirement already satisfied: pyrsistent>=0.14.0 in /usr/local/lib/python3.7/site-packages (from jsonschema>=3.0.1->kfp==0.2.5->mlrun) (0.17.3)\n",
      "Requirement already satisfied: wrapt<2,>=1.10 in /usr/local/lib/python3.7/site-packages (from Deprecated->kfp==0.2.5->mlrun) (1.12.1)\n",
      "Requirement already satisfied: pyasn1>=0.1.3 in /usr/local/lib/python3.7/site-packages (from rsa<5,>=3.1.4; python_version >= \"3.5\"->google-auth<2.0dev,>=1.19.1->mlrun) (0.4.8)\n",
      "Requirement already satisfied: MarkupSafe>=0.23 in /usr/local/lib/python3.7/site-packages (from jinja2>=2.4->nbconvert>=5.4->nuclio-jupyter>=0.8.7->mlrun) (1.1.1)\n",
      "Requirement already satisfied: webencodings in /usr/local/lib/python3.7/site-packages (from bleach->nbconvert>=5.4->nuclio-jupyter>=0.8.7->mlrun) (0.5.1)\n",
      "Requirement already satisfied: packaging in /usr/local/lib/python3.7/site-packages (from bleach->nbconvert>=5.4->nuclio-jupyter>=0.8.7->mlrun) (20.4)\n",
      "Requirement already satisfied: async-generator in /usr/local/lib/python3.7/site-packages (from nbclient<0.6.0,>=0.5.0->nbconvert>=5.4->nuclio-jupyter>=0.8.7->mlrun) (1.10)\n",
      "Requirement already satisfied: pycparser in /usr/local/lib/python3.7/site-packages (from cffi!=1.11.3,>=1.8->cryptography>=2.1.4->azure-storage-blob->mlrun) (2.20)\n",
      "Requirement already satisfied: oauthlib>=3.0.0 in /usr/local/lib/python3.7/site-packages (from requests-oauthlib>=0.5.0->msrest>=0.6.10->azure-storage-blob->mlrun) (3.1.0)\n",
      "Requirement already satisfied: google-crc32c<2.0dev,>=1.0; python_version >= \"3.5\" in /usr/local/lib/python3.7/site-packages (from google-resumable-media<2.0dev,>=1.0.0->google-cloud-storage>=1.13.0->kfp==0.2.5->mlrun) (1.0.0)\n",
      "Requirement already satisfied: google-api-core<2.0.0dev,>=1.19.0 in /usr/local/lib/python3.7/site-packages (from google-cloud-core<2.0dev,>=1.4.1->google-cloud-storage>=1.13.0->kfp==0.2.5->mlrun) (1.23.0)\n",
      "Requirement already satisfied: zipp>=0.5 in /usr/local/lib/python3.7/site-packages (from importlib-metadata; python_version < \"3.8\"->jsonschema>=3.0.1->kfp==0.2.5->mlrun) (3.4.0)\n",
      "Requirement already satisfied: protobuf>=3.12.0 in /usr/local/lib/python3.7/site-packages (from google-api-core<2.0.0dev,>=1.19.0->google-cloud-core<2.0dev,>=1.4.1->google-cloud-storage>=1.13.0->kfp==0.2.5->mlrun) (3.13.0)\n",
      "Requirement already satisfied: googleapis-common-protos<2.0dev,>=1.6.0 in /usr/local/lib/python3.7/site-packages (from google-api-core<2.0.0dev,>=1.19.0->google-cloud-core<2.0dev,>=1.4.1->google-cloud-storage>=1.13.0->kfp==0.2.5->mlrun) (1.52.0)\n",
      "\u001b[36mINFO\u001b[0m[0039] Taking snapshot of full filesystem...        \n",
      "\u001b[36mINFO\u001b[0m[0039] Resolving paths                              \n",
      "> 2020-11-17 19:34:36,808 [info] function spec saved to path: function.yaml\n"
     ]
    },
    {
     "data": {
      "text/plain": [
       "<mlrun.runtimes.kubejob.KubejobRuntime at 0x7f7940542e10>"
      ]
     },
     "execution_count": 4,
     "metadata": {},
     "output_type": "execute_result"
    }
   ],
   "source": [
    "# add metadata (for templates and reuse)\n",
    "fn.spec.default_handler = \"save_property\"\n",
    "fn.spec.build.base_image = \"mlrun/mlrun\"\n",
    "fn.spec.description = \"Filter properties\"\n",
    "fn.metadata.categories = [\"bi\"]\n",
    "fn.metadata.labels = {\"author\": \"mdl\"}\n",
    "fn.metadata.tag = \"v2\"\n",
    "fn.deploy()\n",
    "fn.export(\"function.yaml\")"
   ]
  },
  {
   "cell_type": "code",
   "execution_count": null,
   "metadata": {},
   "outputs": [],
   "source": []
  },
  {
   "cell_type": "code",
   "execution_count": null,
   "metadata": {},
   "outputs": [],
   "source": []
  }
 ],
 "metadata": {
  "kernelspec": {
   "display_name": "Python [conda env:root] *",
   "language": "python",
   "name": "conda-root-py"
  },
  "language_info": {
   "codemirror_mode": {
    "name": "ipython",
    "version": 3
   },
   "file_extension": ".py",
   "mimetype": "text/x-python",
   "name": "python",
   "nbconvert_exporter": "python",
   "pygments_lexer": "ipython3",
   "version": "3.7.6"
  }
 },
 "nbformat": 4,
 "nbformat_minor": 4
}
