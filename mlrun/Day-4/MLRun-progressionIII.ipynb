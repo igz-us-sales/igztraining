{
 "cells": [
  {
   "cell_type": "markdown",
   "metadata": {},
   "source": [
    "# Project management"
   ]
  },
  {
   "cell_type": "code",
   "execution_count": 33,
   "metadata": {},
   "outputs": [
    {
     "name": "stdout",
     "output_type": "stream",
     "text": [
      "Project path: /User/igztraining/mlrun/Day-4/conf\n",
      "Project name: properties-management\n"
     ]
    }
   ],
   "source": [
    "from os import path, getenv\n",
    "from mlrun import new_project\n",
    "\n",
    "project_name = '-'.join(filter(None, ['properties-management']))\n",
    "project_path = path.abspath('conf')\n",
    "project = new_project(project_name, project_path, init_git=True)\n",
    "\n",
    "print(f'Project path: {project_path}\\nProject name: {project_name}')"
   ]
  },
  {
   "cell_type": "code",
   "execution_count": 34,
   "metadata": {},
   "outputs": [
    {
     "name": "stdout",
     "output_type": "stream",
     "text": [
      "Artifacts path: /User/igztraining/mlrun/Day-4/jobs\n",
      "MLRun DB path: http://mlrun-api:8080\n"
     ]
    }
   ],
   "source": [
    "from mlrun import run_local, NewTask, mlconf, import_function, mount_v3io\n",
    "\n",
    "# Target location for storing pipeline artifacts\n",
    "artifact_path = path.abspath('jobs')\n",
    "# MLRun DB path or API service URL\n",
    "mlconf.dbpath = mlconf.dbpath or 'http://mlrun-api:8080'\n",
    "\n",
    "print(f'Artifacts path: {artifact_path}\\nMLRun DB path: {mlconf.dbpath}')"
   ]
  },
  {
   "cell_type": "markdown",
   "metadata": {},
   "source": [
    "# Deploy code as an MLRun function"
   ]
  },
  {
   "cell_type": "code",
   "execution_count": null,
   "metadata": {},
   "outputs": [],
   "source": [
    "from mlrun import code_to_function, mlconf,mount_v3io"
   ]
  },
  {
   "cell_type": "code",
   "execution_count": null,
   "metadata": {},
   "outputs": [],
   "source": [
    "fn = code_to_function(project='Iguazio-Training',name='properities-handler', kind='job',filename='modules/mlrun_functions.ipynb')"
   ]
  },
  {
   "cell_type": "code",
   "execution_count": null,
   "metadata": {},
   "outputs": [],
   "source": [
    "fn.spec.image = \"mlrun/mlrun\""
   ]
  },
  {
   "cell_type": "code",
   "execution_count": null,
   "metadata": {},
   "outputs": [],
   "source": [
    "fn.apply(mount_v3io())"
   ]
  },
  {
   "cell_type": "markdown",
   "metadata": {},
   "source": [
    "# Add function to project"
   ]
  },
  {
   "cell_type": "code",
   "execution_count": null,
   "metadata": {},
   "outputs": [],
   "source": [
    "project.set_function(fn,name='properties-handler')"
   ]
  },
  {
   "cell_type": "code",
   "execution_count": null,
   "metadata": {},
   "outputs": [],
   "source": [
    "project.functions"
   ]
  },
  {
   "cell_type": "markdown",
   "metadata": {},
   "source": [
    "### Run interactive"
   ]
  },
  {
   "cell_type": "code",
   "execution_count": null,
   "metadata": {},
   "outputs": [],
   "source": [
    "params = {\"source_file\" : \"/User/igztraining/mlrun/Day-4/data/demo.csv\",\n",
    "\"target_file\" : \"/User/igztraining/mlrun/Day-4/data/condos.csv\" }"
   ]
  },
  {
   "cell_type": "code",
   "execution_count": null,
   "metadata": {},
   "outputs": [],
   "source": [
    "save_properties = project.func('properties-handler').run(name='run_withcode',artifact_path=\"/User/artifacts\",handler='save_property',params=params,project='Iguazio-Training')"
   ]
  },
  {
   "cell_type": "markdown",
   "metadata": {},
   "source": [
    "### Run step 2 with Step 1's output"
   ]
  },
  {
   "cell_type": "code",
   "execution_count": null,
   "metadata": {},
   "outputs": [],
   "source": [
    "params['city']=\"SACRAMENTO\"\n",
    "params['target_dataset']=\"sacramento_condos\""
   ]
  },
  {
   "cell_type": "code",
   "execution_count": null,
   "metadata": {},
   "outputs": [],
   "source": [
    "sp_run = project.func('properties-handler').run(name='run_withcode',artifact_path=\"/User/artifacts\",handler='filter_properties',\n",
    "                inputs={\"source_data\":save_properties.outputs[\"condo_properties\"]},\n",
    "                params=params,project='Iguazio-Training')"
   ]
  },
  {
   "cell_type": "code",
   "execution_count": null,
   "metadata": {},
   "outputs": [],
   "source": [
    "project.save()"
   ]
  },
  {
   "cell_type": "markdown",
   "metadata": {},
   "source": [
    "# Run function as part of a pipeline"
   ]
  },
  {
   "cell_type": "code",
   "execution_count": null,
   "metadata": {},
   "outputs": [],
   "source": [
    "import kfp\n",
    "from kfp import dsl\n",
    "from mlrun import run_pipeline"
   ]
  },
  {
   "cell_type": "code",
   "execution_count": 31,
   "metadata": {},
   "outputs": [],
   "source": [
    "@dsl.pipeline(\n",
    "    name = 'Property Management',\n",
    "    description = 'Condo reviews'\n",
    ")\n",
    "\n",
    "# Configure function resources and local settings\n",
    "def init_functions(functions: dict, project=None, secrets=None):\n",
    "    for f in functions.values():\n",
    "        f.apply(mount_v3io())\n",
    "\n",
    "\n",
    "def job_pipeline(\n",
    "    source_file :str = \"\"\n",
    ") -> None:\n",
    "    \n",
    "    save_properties = project.func('properties-handler').as_step(handler='save_property',\n",
    "                            params={\"source_file\" : source_file,\n",
    "                                    \"target_file\" : \"/User/igztraining/mlrun/data/condos.csv\" },\n",
    "                            outputs=['condo_properties'])\n",
    "    \n",
    "    \n",
    "    filter_properties = project.func('properties-handler').as_step(handler='filter_properties',\n",
    "                                   params={\"city\" : \"SACRAMENTO\",\n",
    "                                           \"target_dataset\" : \"sacramento_condos\" },\n",
    "                                   inputs={\"source_data\":save_properties.outputs[\"condo_properties\"]})"
   ]
  },
  {
   "cell_type": "code",
   "execution_count": 32,
   "metadata": {},
   "outputs": [
    {
     "data": {
      "text/html": [
       "Experiment link <a href=\"https://dashboard.default-tenant.app.mdl0720.iguazio-cd0.com/pipelines/#/experiments/details/ab52961d-3bc3-4200-9919-c22a3fda85e7\" target=\"_blank\" >here</a>"
      ],
      "text/plain": [
       "<IPython.core.display.HTML object>"
      ]
     },
     "metadata": {},
     "output_type": "display_data"
    },
    {
     "data": {
      "text/html": [
       "Run link <a href=\"https://dashboard.default-tenant.app.mdl0720.iguazio-cd0.com/pipelines/#/runs/details/1c53bfba-05e0-4b86-921a-f456a27b8f6c\" target=\"_blank\" >here</a>"
      ],
      "text/plain": [
       "<IPython.core.display.HTML object>"
      ]
     },
     "metadata": {},
     "output_type": "display_data"
    },
    {
     "name": "stdout",
     "output_type": "stream",
     "text": [
      "> 2020-09-01 15:04:08,442 [info] Pipeline run id=1c53bfba-05e0-4b86-921a-f456a27b8f6c, check UI or DB for progress\n"
     ]
    }
   ],
   "source": [
    "kfp.compiler.Compiler().compile(job_pipeline, 'jobpipe.yaml')\n",
    "artifact_path = 'v3io:///users/admin/kfp/{{workflow.uid}}/'\n",
    "arguments = {\"source_file\" : \"/User/igztraining/mlrun/Day-4/data/demo.csv\"}\n",
    "run_id = run_pipeline(job_pipeline, arguments, experiment='property_management', artifact_path=artifact_path)"
   ]
  },
  {
   "cell_type": "code",
   "execution_count": null,
   "metadata": {},
   "outputs": [],
   "source": []
  }
 ],
 "metadata": {
  "kernelspec": {
   "display_name": "Python [conda env:.conda-holler-env]",
   "language": "python",
   "name": "conda-env-.conda-holler-env-py"
  },
  "language_info": {
   "codemirror_mode": {
    "name": "ipython",
    "version": 3
   },
   "file_extension": ".py",
   "mimetype": "text/x-python",
   "name": "python",
   "nbconvert_exporter": "python",
   "pygments_lexer": "ipython3",
   "version": "3.7.7"
  }
 },
 "nbformat": 4,
 "nbformat_minor": 4
}
