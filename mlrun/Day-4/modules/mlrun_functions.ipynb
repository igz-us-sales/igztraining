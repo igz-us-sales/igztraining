{
 "cells": [
  {
   "cell_type": "code",
   "execution_count": 113,
   "metadata": {},
   "outputs": [],
   "source": [
    "# nuclio: ignore\n",
    "import nuclio"
   ]
  },
  {
   "cell_type": "code",
   "execution_count": 114,
   "metadata": {},
   "outputs": [
    {
     "name": "stdout",
     "output_type": "stream",
     "text": [
      "%nuclio: setting kind to 'job'\n",
      "%nuclio: setting spec.image to 'mlrun/mlrun:0.5.1'\n"
     ]
    }
   ],
   "source": [
    "%nuclio config kind = \"job\"\n",
    "%nuclio config spec.image = \"mlrun/mlrun:0.5.1\""
   ]
  },
  {
   "cell_type": "code",
   "execution_count": 115,
   "metadata": {},
   "outputs": [],
   "source": [
    "# nuclio: start-code"
   ]
  },
  {
   "cell_type": "code",
   "execution_count": 116,
   "metadata": {},
   "outputs": [],
   "source": [
    "import os\n",
    "import json\n",
    "import pandas as pd\n",
    "from mlrun.datastore import DataItem"
   ]
  },
  {
   "cell_type": "code",
   "execution_count": 117,
   "metadata": {},
   "outputs": [],
   "source": [
    "def save_property(context,source_file='',target_file=''):\n",
    "    #source_file = context.get_param('source_file')\n",
    "    #target_file = context.get_param('target_file')\n",
    "    print(source_file)\n",
    "    all_properties_df = pd.read_csv(source_file)\n",
    "    condo_properties_df = all_properties_df[all_properties_df[\"type\"]==\"Condo\"]\n",
    "    \n",
    "    # Record a result \n",
    "    context.log_result('properties_available',condo_properties_df.shape[0])\n",
    "    print(\"new version: V2\")\n",
    "    #Record a Dataset\n",
    "    context.log_dataset('condo_properties',df=condo_properties_df,format=\"csv\")\n",
    "    return"
   ]
  },
  {
   "cell_type": "code",
   "execution_count": 118,
   "metadata": {},
   "outputs": [],
   "source": [
    "def filter_properties(context,\n",
    "                      source_data: DataItem,\n",
    "                      target_dataset='',\n",
    "                      city=''):\n",
    "        \n",
    "    df = source_data.as_df()\n",
    "    \n",
    "    city_df = df[df[\"city\"]==city]\n",
    "    \n",
    "    context.log_dataset(target_dataset,df=city_df,format=\"csv\")"
   ]
  },
  {
   "cell_type": "code",
   "execution_count": 119,
   "metadata": {},
   "outputs": [],
   "source": [
    "# nuclio: end-code"
   ]
  },
  {
   "cell_type": "markdown",
   "metadata": {},
   "source": [
    "# Save as market function"
   ]
  },
  {
   "cell_type": "code",
   "execution_count": 120,
   "metadata": {},
   "outputs": [
    {
     "name": "stdout",
     "output_type": "stream",
     "text": [
      "> 2020-09-29 18:58:50,901 [info] function spec saved to path: function.yaml\n"
     ]
    },
    {
     "data": {
      "text/plain": [
       "<mlrun.runtimes.kubejob.KubejobRuntime at 0x7f8c5cf1a450>"
      ]
     },
     "execution_count": 120,
     "metadata": {},
     "output_type": "execute_result"
    }
   ],
   "source": [
    "from mlrun import code_to_function\n",
    "\n",
    "# create job function object from notebook code\n",
    "fn = code_to_function(\"properties-management\")\n",
    "# add metadata (for templates and reuse)\n",
    "fn.spec.default_handler = \"save_property\"\n",
    "fn.spec.description = \"Filter properties\"\n",
    "fn.metadata.categories = [\"bi\"]\n",
    "fn.metadata.labels = {\"author\": \"mdl\"}\n",
    "fn.metadata.tag = \"v2\"\n",
    "fn.export(\"function.yaml\")"
   ]
  },
  {
   "cell_type": "code",
   "execution_count": null,
   "metadata": {},
   "outputs": [],
   "source": []
  },
  {
   "cell_type": "code",
   "execution_count": null,
   "metadata": {},
   "outputs": [],
   "source": []
  }
 ],
 "metadata": {
  "kernelspec": {
   "display_name": "Python [conda env:.conda-holler-env]",
   "language": "python",
   "name": "conda-env-.conda-holler-env-py"
  },
  "language_info": {
   "codemirror_mode": {
    "name": "ipython",
    "version": 3
   },
   "file_extension": ".py",
   "mimetype": "text/x-python",
   "name": "python",
   "nbconvert_exporter": "python",
   "pygments_lexer": "ipython3",
   "version": "3.7.7"
  }
 },
 "nbformat": 4,
 "nbformat_minor": 4
}
