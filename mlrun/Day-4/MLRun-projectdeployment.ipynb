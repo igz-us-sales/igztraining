{
 "cells": [
  {
   "cell_type": "markdown",
   "metadata": {},
   "source": [
    "# Project deployment"
   ]
  },
  {
   "cell_type": "code",
   "execution_count": 1,
   "metadata": {},
   "outputs": [],
   "source": [
    "from os import path, getenv\n",
    "from mlrun import load_project"
   ]
  },
  {
   "cell_type": "code",
   "execution_count": 10,
   "metadata": {},
   "outputs": [],
   "source": [
    "project = load_project('/User/projects/deploy',url='/User/igztraining/mlrun/Day-4/conf/project.yaml')"
   ]
  },
  {
   "cell_type": "code",
   "execution_count": 16,
   "metadata": {},
   "outputs": [
    {
     "data": {
      "text/html": [
       "Experiment link <a href=\"https://dashboard.default-tenant.app.mdl0720.iguazio-cd0.com/pipelines/#/experiments/details/cf3897e8-1c5a-4aa5-9bda-bd7b6c5d1a6d\" target=\"_blank\" >here</a>"
      ],
      "text/plain": [
       "<IPython.core.display.HTML object>"
      ]
     },
     "metadata": {},
     "output_type": "display_data"
    },
    {
     "data": {
      "text/html": [
       "Run link <a href=\"https://dashboard.default-tenant.app.mdl0720.iguazio-cd0.com/pipelines/#/runs/details/d9353dfe-5b22-4296-8fd7-4366bff981b8\" target=\"_blank\" >here</a>"
      ],
      "text/plain": [
       "<IPython.core.display.HTML object>"
      ]
     },
     "metadata": {},
     "output_type": "display_data"
    },
    {
     "name": "stdout",
     "output_type": "stream",
     "text": [
      "> 2020-09-01 20:35:28,329 [info] Pipeline run id=d9353dfe-5b22-4296-8fd7-4366bff981b8, check UI or DB for progress\n"
     ]
    },
    {
     "data": {
      "text/plain": [
       "'d9353dfe-5b22-4296-8fd7-4366bff981b8'"
      ]
     },
     "execution_count": 16,
     "metadata": {},
     "output_type": "execute_result"
    }
   ],
   "source": [
    "project.run(workflow_path=\"/User/igztraining/mlrun/Day-4/conf/workflow.py\",\n",
    "            artifact_path=\"/User/artifacts\",\n",
    "            arguments = {\"source_file\" : \"/User/igztraining/mlrun/Day-4/data/demo.csv\"}\n",
    ")"
   ]
  },
  {
   "cell_type": "code",
   "execution_count": null,
   "metadata": {},
   "outputs": [],
   "source": []
  }
 ],
 "metadata": {
  "kernelspec": {
   "display_name": "Python [conda env:.conda-holler-env]",
   "language": "python",
   "name": "conda-env-.conda-holler-env-py"
  },
  "language_info": {
   "codemirror_mode": {
    "name": "ipython",
    "version": 3
   },
   "file_extension": ".py",
   "mimetype": "text/x-python",
   "name": "python",
   "nbconvert_exporter": "python",
   "pygments_lexer": "ipython3",
   "version": "3.7.7"
  }
 },
 "nbformat": 4,
 "nbformat_minor": 4
}
