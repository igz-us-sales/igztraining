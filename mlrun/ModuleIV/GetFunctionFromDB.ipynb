{
 "cells": [
  {
   "cell_type": "code",
   "execution_count": 1,
   "metadata": {},
   "outputs": [],
   "source": [
    "from mlrun import db,get_run_db, import_function,mount_v3io"
   ]
  },
  {
   "cell_type": "code",
   "execution_count": 2,
   "metadata": {},
   "outputs": [],
   "source": [
    "artifact_path = '/User/artifact'"
   ]
  },
  {
   "cell_type": "markdown",
   "metadata": {},
   "source": [
    "### List functions in a project"
   ]
  },
  {
   "cell_type": "code",
   "execution_count": 3,
   "metadata": {},
   "outputs": [],
   "source": [
    "db = get_run_db().connect()"
   ]
  },
  {
   "cell_type": "code",
   "execution_count": 4,
   "metadata": {},
   "outputs": [],
   "source": [
    "#db.list_functions(project='properties-management')"
   ]
  },
  {
   "cell_type": "markdown",
   "metadata": {},
   "source": [
    "### Import a specific version of a function"
   ]
  },
  {
   "cell_type": "code",
   "execution_count": 5,
   "metadata": {},
   "outputs": [],
   "source": [
    "fn = import_function(url='db://properties-management/properties-management')"
   ]
  },
  {
   "cell_type": "code",
   "execution_count": 6,
   "metadata": {},
   "outputs": [
    {
     "name": "stdout",
     "output_type": "stream",
     "text": [
      "kind: job\n",
      "metadata:\n",
      "  name: properties-management\n",
      "  tag: latest\n",
      "  hash: 1c8856a72d7bde5570de50bbb0d1e71636f65ea0\n",
      "  project: properties-management\n",
      "  labels:\n",
      "    author: mdl\n",
      "  categories:\n",
      "  - bi\n",
      "  updated: '2020-11-18T18:41:52.871442+00:00'\n",
      "spec:\n",
      "  command: ''\n",
      "  args: []\n",
      "  image: .mlrun/func-default-properties-management-v2\n",
      "  volumes:\n",
      "  - flexVolume:\n",
      "      driver: v3io/fuse\n",
      "      options:\n",
      "        accessKey: 463e2f3b-6c5d-4340-9492-1266c4ca01e2\n",
      "        container: users\n",
      "        subPath: /marcelo\n",
      "    name: v3io\n",
      "  volume_mounts:\n",
      "  - mountPath: /User\n",
      "    name: v3io\n",
      "    subPath: ''\n",
      "  env:\n",
      "  - name: V3IO_API\n",
      "    value: v3io-webapi.default-tenant.svc:8081\n",
      "  - name: V3IO_USERNAME\n",
      "    value: marcelo\n",
      "  - name: V3IO_ACCESS_KEY\n",
      "    value: 463e2f3b-6c5d-4340-9492-1266c4ca01e2\n",
      "  default_handler: save_property\n",
      "  entry_points:\n",
      "    save_properties:\n",
      "      name: save_properties\n",
      "      doc: ''\n",
      "      parameters:\n",
      "      - name: context\n",
      "        default: ''\n",
      "      - name: source_file\n",
      "        default: ''\n",
      "      - name: target_file\n",
      "        default: ''\n",
      "      outputs:\n",
      "      - default: ''\n",
      "      lineno: 8\n",
      "    filter_properties:\n",
      "      name: filter_properties\n",
      "      doc: ''\n",
      "      parameters:\n",
      "      - name: context\n",
      "        default: ''\n",
      "      - name: source_data\n",
      "        type: DataItem\n",
      "        default: ''\n",
      "      - name: target_dataset\n",
      "        default: ''\n",
      "      - name: city\n",
      "        default: ''\n",
      "      outputs:\n",
      "      - default: ''\n",
      "      lineno: 18\n",
      "  description: Filter properties\n",
      "  build:\n",
      "    functionSourceCode: IyBHZW5lcmF0ZWQgYnkgbnVjbGlvLmV4cG9ydC5OdWNsaW9FeHBvcnRlcgoKaW1wb3J0IG9zCmltcG9ydCBqc29uCmltcG9ydCBwYW5kYXMgYXMgcGQKZnJvbSBtbHJ1bi5kYXRhc3RvcmUgaW1wb3J0IERhdGFJdGVtCgpkZWYgc2F2ZV9wcm9wZXJ0aWVzKGNvbnRleHQsc291cmNlX2ZpbGU9JycsdGFyZ2V0X2ZpbGU9JycpOgogICAgcHJpbnQoc291cmNlX2ZpbGUpCiAgICBhbGxfcHJvcGVydGllc19kZiA9IHBkLnJlYWRfY3N2KHNvdXJjZV9maWxlKQogICAgY29uZG9fcHJvcGVydGllc19kZiA9IGFsbF9wcm9wZXJ0aWVzX2RmW2FsbF9wcm9wZXJ0aWVzX2RmWyJ0eXBlIl09PSJDb25kbyJdCiAgICAKICAgIGNvbnRleHQubG9nX3Jlc3VsdCgncHJvcGVydGllc19hdmFpbGFibGUnLGNvbmRvX3Byb3BlcnRpZXNfZGYuc2hhcGVbMF0pCiAgICAKICAgIGNvbnRleHQubG9nX2RhdGFzZXQoJ2NvbmRvX3Byb3BlcnRpZXMnLGRmPWNvbmRvX3Byb3BlcnRpZXNfZGYsZm9ybWF0PSJDU1YiKQogICAgcmV0dXJuCgpkZWYgZmlsdGVyX3Byb3BlcnRpZXMoY29udGV4dCwKICAgICAgICAgICAgICAgICAgICAgIHNvdXJjZV9kYXRhOiBEYXRhSXRlbSwKICAgICAgICAgICAgICAgICAgICAgIHRhcmdldF9kYXRhc2V0PScnLAogICAgICAgICAgICAgICAgICAgICAgY2l0eT0nJyk6CiAgICAgICAgCiAgICBkZiA9IHNvdXJjZV9kYXRhLmFzX2RmKCkKICAgIAogICAgY2l0eV9kZiA9IGRmW2RmWyJjaXR5Il09PWNpdHldCiAgICAKICAgIGNvbnRleHQubG9nX2RhdGFzZXQodGFyZ2V0X2RhdGFzZXQsZGY9Y2l0eV9kZixmb3JtYXQ9ImNzdiIpCgo=\n",
      "    image: .mlrun/func-default-properties-management-v2\n",
      "    base_image: mlrun/mlrun\n",
      "    commands: []\n",
      "\n"
     ]
    }
   ],
   "source": [
    "print(fn.to_yaml())"
   ]
  },
  {
   "cell_type": "markdown",
   "metadata": {},
   "source": [
    "### Execute function"
   ]
  },
  {
   "cell_type": "code",
   "execution_count": 7,
   "metadata": {},
   "outputs": [
    {
     "data": {
      "text/plain": [
       "<mlrun.runtimes.kubejob.KubejobRuntime at 0x7f9ce22bd150>"
      ]
     },
     "execution_count": 7,
     "metadata": {},
     "output_type": "execute_result"
    }
   ],
   "source": [
    "fn.apply(mount_v3io())"
   ]
  },
  {
   "cell_type": "code",
   "execution_count": 8,
   "metadata": {},
   "outputs": [
    {
     "name": "stdout",
     "output_type": "stream",
     "text": [
      "> 2020-11-18 18:54:41,993 [info] starting run properties-management-save_properties uid=13bcb1aece1e4bd29ac588d44e567701 DB=http://mlrun-api:8080\n",
      "> 2020-11-18 18:54:42,119 [info] Job is running in the background, pod: properties-management-save-properties-mgs7p\n",
      "/User/igztraining/mlrun/Day-4/data/demo.csv\n",
      "> 2020-11-18 18:54:45,872 [info] run executed, status=completed\n",
      "final state: completed\n"
     ]
    },
    {
     "data": {
      "text/html": [
       "<style>\n",
       ".dictlist {\n",
       "  background-color: #ca8452;\n",
       "  text-align: center;\n",
       "  margin: 4px;\n",
       "  border-radius: 3px; padding: 0px 3px 1px 3px; display: inline-block;}\n",
       ".artifact {\n",
       "  cursor: pointer;\n",
       "  background-color: #ca8452;\n",
       "  text-align: left;\n",
       "  margin: 4px; border-radius: 3px; padding: 0px 3px 1px 3px; display: inline-block;\n",
       "}\n",
       "div.block.hidden {\n",
       "  display: none;\n",
       "}\n",
       ".clickable {\n",
       "  cursor: pointer;\n",
       "}\n",
       ".ellipsis {\n",
       "  display: inline-block;\n",
       "  max-width: 60px;\n",
       "  white-space: nowrap;\n",
       "  overflow: hidden;\n",
       "  text-overflow: ellipsis;\n",
       "}\n",
       ".master-wrapper {\n",
       "  display: flex;\n",
       "  flex-flow: row nowrap;\n",
       "  justify-content: flex-start;\n",
       "  align-items: stretch;\n",
       "}\n",
       ".master-tbl {\n",
       "  flex: 3\n",
       "}\n",
       ".master-wrapper > div {\n",
       "  margin: 4px;\n",
       "  padding: 10px;\n",
       "}\n",
       "iframe.fileview {\n",
       "  border: 0 none;\n",
       "  height: 100%;\n",
       "  width: 100%;\n",
       "  white-space: pre-wrap;\n",
       "}\n",
       ".pane-header-title {\n",
       "  width: 80%;\n",
       "  font-weight: 500;\n",
       "}\n",
       ".pane-header {\n",
       "  line-height: 1;\n",
       "  background-color: #ca8452;\n",
       "  padding: 3px;\n",
       "}\n",
       ".pane-header .close {\n",
       "  font-size: 20px;\n",
       "  font-weight: 700;\n",
       "  float: right;\n",
       "  margin-top: -5px;\n",
       "}\n",
       ".master-wrapper .right-pane {\n",
       "  border: 1px inset silver;\n",
       "  width: 40%;\n",
       "  min-height: 300px;\n",
       "  flex: 3\n",
       "  min-width: 500px;\n",
       "}\n",
       ".master-wrapper * {\n",
       "  box-sizing: border-box;\n",
       "}\n",
       "</style><script>\n",
       "function copyToClipboard(fld) {\n",
       "    if (document.queryCommandSupported && document.queryCommandSupported('copy')) {\n",
       "        var textarea = document.createElement('textarea');\n",
       "        textarea.textContent = fld.innerHTML;\n",
       "        textarea.style.position = 'fixed';\n",
       "        document.body.appendChild(textarea);\n",
       "        textarea.select();\n",
       "\n",
       "        try {\n",
       "            return document.execCommand('copy'); // Security exception may be thrown by some browsers.\n",
       "        } catch (ex) {\n",
       "\n",
       "        } finally {\n",
       "            document.body.removeChild(textarea);\n",
       "        }\n",
       "    }\n",
       "}\n",
       "function expandPanel(el) {\n",
       "  const panelName = \"#\" + el.getAttribute('paneName');\n",
       "  console.log(el.title);\n",
       "\n",
       "  document.querySelector(panelName + \"-title\").innerHTML = el.title\n",
       "  iframe = document.querySelector(panelName + \"-body\");\n",
       "\n",
       "  const tblcss = `<style> body { font-family: Arial, Helvetica, sans-serif;}\n",
       "    #csv { margin-bottom: 15px; }\n",
       "    #csv table { border-collapse: collapse;}\n",
       "    #csv table td { padding: 4px 8px; border: 1px solid silver;} </style>`;\n",
       "\n",
       "  function csvToHtmlTable(str) {\n",
       "    return '<div id=\"csv\"><table><tr><td>' +  str.replace(/[\\n\\r]+$/g, '').replace(/[\\n\\r]+/g, '</td></tr><tr><td>')\n",
       "      .replace(/,/g, '</td><td>') + '</td></tr></table></div>';\n",
       "  }\n",
       "\n",
       "  function reqListener () {\n",
       "    if (el.title.endsWith(\".csv\")) {\n",
       "      iframe.setAttribute(\"srcdoc\", tblcss + csvToHtmlTable(this.responseText));\n",
       "    } else {\n",
       "      iframe.setAttribute(\"srcdoc\", this.responseText);\n",
       "    }\n",
       "    console.log(this.responseText);\n",
       "  }\n",
       "\n",
       "  const oReq = new XMLHttpRequest();\n",
       "  oReq.addEventListener(\"load\", reqListener);\n",
       "  oReq.open(\"GET\", el.title);\n",
       "  oReq.send();\n",
       "\n",
       "\n",
       "  //iframe.src = el.title;\n",
       "  const resultPane = document.querySelector(panelName + \"-pane\");\n",
       "  if (resultPane.classList.contains(\"hidden\")) {\n",
       "    resultPane.classList.remove(\"hidden\");\n",
       "  }\n",
       "}\n",
       "function closePanel(el) {\n",
       "  const panelName = \"#\" + el.getAttribute('paneName')\n",
       "  const resultPane = document.querySelector(panelName + \"-pane\");\n",
       "  if (!resultPane.classList.contains(\"hidden\")) {\n",
       "    resultPane.classList.add(\"hidden\");\n",
       "  }\n",
       "}\n",
       "\n",
       "</script>\n",
       "<div class=\"master-wrapper\">\n",
       "  <div class=\"block master-tbl\"><div>\n",
       "<style scoped>\n",
       "    .dataframe tbody tr th:only-of-type {\n",
       "        vertical-align: middle;\n",
       "    }\n",
       "\n",
       "    .dataframe tbody tr th {\n",
       "        vertical-align: top;\n",
       "    }\n",
       "\n",
       "    .dataframe thead th {\n",
       "        text-align: right;\n",
       "    }\n",
       "</style>\n",
       "<table border=\"1\" class=\"dataframe\">\n",
       "  <thead>\n",
       "    <tr style=\"text-align: right;\">\n",
       "      <th>project</th>\n",
       "      <th>uid</th>\n",
       "      <th>iter</th>\n",
       "      <th>start</th>\n",
       "      <th>state</th>\n",
       "      <th>name</th>\n",
       "      <th>labels</th>\n",
       "      <th>inputs</th>\n",
       "      <th>parameters</th>\n",
       "      <th>results</th>\n",
       "      <th>artifacts</th>\n",
       "    </tr>\n",
       "  </thead>\n",
       "  <tbody>\n",
       "    <tr>\n",
       "      <td>properties-management</td>\n",
       "      <td><div title=\"13bcb1aece1e4bd29ac588d44e567701\"><a href=\"https://mlrun-ui.default-tenant.app.us-sales.iguazio-cd2.com/projects/properties-management/jobs/13bcb1aece1e4bd29ac588d44e567701/info\" target=\"_blank\" >...4e567701</a></div></td>\n",
       "      <td>0</td>\n",
       "      <td>Nov 18 18:54:45</td>\n",
       "      <td>completed</td>\n",
       "      <td>properties-management-save_properties</td>\n",
       "      <td><div class=\"dictlist\">v3io_user=marcelo</div><div class=\"dictlist\">kind=job</div><div class=\"dictlist\">owner=marcelo</div><div class=\"dictlist\">host=properties-management-save-properties-mgs7p</div></td>\n",
       "      <td></td>\n",
       "      <td><div class=\"dictlist\">source_file=/User/igztraining/mlrun/Day-4/data/demo.csv</div><div class=\"dictlist\">target_file=/User/igztraining/mlrun/data/condos.csv</div></td>\n",
       "      <td><div class=\"dictlist\">properties_available=54</div></td>\n",
       "      <td><div class=\"artifact\" onclick=\"expandPanel(this)\" paneName=\"result120f8c29\" title=\"/files/artifact/condo_properties.csv\">condo_properties</div></td>\n",
       "    </tr>\n",
       "  </tbody>\n",
       "</table>\n",
       "</div></div>\n",
       "  <div id=\"result120f8c29-pane\" class=\"right-pane block hidden\">\n",
       "    <div class=\"pane-header\">\n",
       "      <span id=\"result120f8c29-title\" class=\"pane-header-title\">Title</span>\n",
       "      <span onclick=\"closePanel(this)\" paneName=\"result120f8c29\" class=\"close clickable\">&times;</span>\n",
       "    </div>\n",
       "    <iframe class=\"fileview\" id=\"result120f8c29-body\"></iframe>\n",
       "  </div>\n",
       "</div>\n"
      ],
      "text/plain": [
       "<IPython.core.display.HTML object>"
      ]
     },
     "metadata": {},
     "output_type": "display_data"
    },
    {
     "name": "stdout",
     "output_type": "stream",
     "text": [
      "to track results use .show() or .logs() or in CLI: \n",
      "!mlrun get run 13bcb1aece1e4bd29ac588d44e567701 --project properties-management , !mlrun logs 13bcb1aece1e4bd29ac588d44e567701 --project properties-management\n",
      "> 2020-11-18 18:54:48,264 [info] run executed, status=completed\n"
     ]
    },
    {
     "data": {
      "text/plain": [
       "<mlrun.model.RunObject at 0x7f9ce21e5850>"
      ]
     },
     "execution_count": 8,
     "metadata": {},
     "output_type": "execute_result"
    }
   ],
   "source": [
    "fn.run(artifact_path=artifact_path,handler='save_properties',params={\"source_file\" : '/User/igztraining/mlrun/Day-4/data/demo.csv',\n",
    "                                    \"target_file\" : \"/User/igztraining/mlrun/data/condos.csv\" })"
   ]
  },
  {
   "cell_type": "code",
   "execution_count": null,
   "metadata": {},
   "outputs": [],
   "source": []
  }
 ],
 "metadata": {
  "kernelspec": {
   "display_name": "Python 3",
   "language": "python",
   "name": "python3"
  },
  "language_info": {
   "codemirror_mode": {
    "name": "ipython",
    "version": 3
   },
   "file_extension": ".py",
   "mimetype": "text/x-python",
   "name": "python",
   "nbconvert_exporter": "python",
   "pygments_lexer": "ipython3",
   "version": "3.7.6"
  }
 },
 "nbformat": 4,
 "nbformat_minor": 4
}
