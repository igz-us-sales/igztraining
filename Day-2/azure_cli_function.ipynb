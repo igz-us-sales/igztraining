{
 "cells": [
  {
   "cell_type": "code",
   "execution_count": null,
   "metadata": {},
   "outputs": [],
   "source": [
    "# nuclio: ignore\n",
    "import nuclio"
   ]
  },
  {
   "cell_type": "code",
   "execution_count": null,
   "metadata": {},
   "outputs": [],
   "source": [
    "# nuclio: start-code"
   ]
  },
  {
   "cell_type": "code",
   "execution_count": null,
   "metadata": {},
   "outputs": [],
   "source": [
    "%nuclio config kind = \"job\"\n",
    "%nuclio config spec.build.baseImage = \"python:3.6-jessie\""
   ]
  },
  {
   "cell_type": "code",
   "execution_count": null,
   "metadata": {},
   "outputs": [],
   "source": [
    "%%nuclio cmd -c \n",
    "curl -sL https://aka.ms/InstallAzureCLIDeb > /tmp/getaz.sh\n",
    "bash /tmp/getaz.sh\n",
    "ls"
   ]
  },
  {
   "cell_type": "code",
   "execution_count": null,
   "metadata": {},
   "outputs": [],
   "source": []
  },
  {
   "cell_type": "code",
   "execution_count": null,
   "metadata": {},
   "outputs": [],
   "source": [
    "# nuclio: end-code"
   ]
  },
  {
   "cell_type": "code",
   "execution_count": null,
   "metadata": {},
   "outputs": [],
   "source": [
    "# This function has no code"
   ]
  },
  {
   "cell_type": "markdown",
   "metadata": {},
   "source": [
    "### mlconfig"
   ]
  },
  {
   "cell_type": "code",
   "execution_count": null,
   "metadata": {},
   "outputs": [],
   "source": [
    "from mlrun import mlconf\n",
    "import os\n",
    "\n",
    "mlconf.dbpath = 'http://mlrun-api:8080'\n",
    "mlconf.artifact_path = mlconf.artifact_path or f'{os.environ[\"HOME\"]}/artifacts'"
   ]
  },
  {
   "cell_type": "markdown",
   "metadata": {},
   "source": [
    "### save"
   ]
  },
  {
   "cell_type": "code",
   "execution_count": null,
   "metadata": {},
   "outputs": [],
   "source": [
    "from mlrun import new_function,code_to_function, mount_v3io\n",
    "\n",
    "# create job function object from notebook code\n",
    "fn = new_function(\"azure_cli\",mode=\"pass\",kind='job')"
   ]
  },
  {
   "cell_type": "markdown",
   "metadata": {},
   "source": [
    "## tests"
   ]
  },
  {
   "cell_type": "code",
   "execution_count": null,
   "metadata": {},
   "outputs": [],
   "source": [
    "# Connection parameters\n",
    "fn.set_env('AZURE_STORAGE_KEY','<AZURE_STORAGE_KEY>')\n",
    "fn.set_env('AZURE_STORAGE_AUTH_MODE','<AZURE_STORAGE_KEY_AUTH_MODE>')\n",
    "fn.set_env('AZURE_STORAGE_ACCOUNT','<AZURE_STORAGE_ACCOUNT>')\n",
    "fn.set_env('AZURE_STORAGE_CONNECTION_STRING','<AZURE_STORAGE_CONNECTION_STRING>')"
   ]
  },
  {
   "cell_type": "code",
   "execution_count": null,
   "metadata": {},
   "outputs": [],
   "source": [
    "# File upload parameters\n",
    "azure_container = '<azurecontainer>'\n",
    "local_file = \"/User/data/wbanmasterlist.parquet\"\n",
    "target_blob = \"wbanmasterlist.parquet\""
   ]
  },
  {
   "cell_type": "code",
   "execution_count": null,
   "metadata": {},
   "outputs": [],
   "source": [
    "#Upload\n",
    "#fn.spec.command = \"az storage blob upload -f %s -c %s -n %s\"% (local_file , azure_container, target_blob)\n",
    "\n",
    "# Download single file\n",
    "#fn.spec.command = \"az storage blob download -f %s -c %s -n %s\"% (local_file , azure_container, target_blob)\n",
    "\n",
    "# Download batch\n",
    "fn.spec.command = \"az storage blob download-batch -d %s -s %s --pattern %s/*\"% (local_file , azure_container, target_blob)\n",
    "#az storage blob download-batch -d . -s mycontainer --pattern dir/*"
   ]
  },
  {
   "cell_type": "code",
   "execution_count": null,
   "metadata": {},
   "outputs": [],
   "source": [
    "fn.apply(mount_v3io())"
   ]
  },
  {
   "cell_type": "code",
   "execution_count": null,
   "metadata": {},
   "outputs": [],
   "source": [
    "\n",
    "#print(fn.to_yaml())"
   ]
  },
  {
   "cell_type": "code",
   "execution_count": null,
   "metadata": {
    "scrolled": true
   },
   "outputs": [],
   "source": [
    "### One time image build. Comment after image is created#\n",
    "#fn.build_config(image=os.getenv('DOCKER_REGISTRY_SERVICE_HOST')+':5000/iguazio/azurecli',base_image='python:3.6-jessie',commands=['curl -sL https://aka.ms/InstallAzureCLIDeb > /tmp/getaz.sh && bash /tmp/getaz.sh'])\n",
    "#fn.deploy()"
   ]
  },
  {
   "cell_type": "code",
   "execution_count": null,
   "metadata": {},
   "outputs": [],
   "source": [
    "docker_registry = \"<docker registry>\""
   ]
  },
  {
   "cell_type": "code",
   "execution_count": null,
   "metadata": {},
   "outputs": [],
   "source": [
    "fn.spec.image=docker_registry + '/iguazio/azurecli'"
   ]
  },
  {
   "cell_type": "code",
   "execution_count": null,
   "metadata": {},
   "outputs": [],
   "source": [
    "fn.run(project='azure-cli',watch=True)"
   ]
  },
  {
   "cell_type": "code",
   "execution_count": null,
   "metadata": {},
   "outputs": [],
   "source": []
  },
  {
   "cell_type": "code",
   "execution_count": null,
   "metadata": {},
   "outputs": [],
   "source": []
  }
 ],
 "metadata": {
  "kernelspec": {
   "display_name": "Python [conda env:.conda-mlrun-0.4.10]",
   "language": "python",
   "name": "conda-env-.conda-mlrun-0.4.10-py"
  },
  "language_info": {
   "codemirror_mode": {
    "name": "ipython",
    "version": 3
   },
   "file_extension": ".py",
   "mimetype": "text/x-python",
   "name": "python",
   "nbconvert_exporter": "python",
   "pygments_lexer": "ipython3",
   "version": "3.7.7"
  }
 },
 "nbformat": 4,
 "nbformat_minor": 4
}
