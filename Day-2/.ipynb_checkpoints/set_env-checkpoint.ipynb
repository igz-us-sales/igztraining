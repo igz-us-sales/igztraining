{
 "cells": [
  {
   "cell_type": "code",
   "execution_count": null,
   "metadata": {},
   "outputs": [],
   "source": [
    "csv_file = \"data/weathercsv.csv\"\n",
    "parquet_file = \"data/weather_parquet_spark_snappy/\"\n",
    "parquet_table = \"hive.default.weather_parquet_spark\"\n",
    "\n",
    "wbanmaster_parquet = \"data/wbanmasterlist_spark_parquet/\"\n",
    "wbanmaster_table = \"hive.default.wbanmasterlist\""
   ]
  },
  {
   "cell_type": "code",
   "execution_count": null,
   "metadata": {},
   "outputs": [],
   "source": [
    "import os"
   ]
  },
  {
   "cell_type": "code",
   "execution_count": null,
   "metadata": {},
   "outputs": [],
   "source": [
    "os.environ['ABFS'] = '<Azure container account>'\n",
    "os.environ['ABFSKEY'] = '<Azure KEY>'\n",
    "STORAGE_ACCOUNT = os.getenv('ABFS')\n",
    "KEY = os.getenv('ABFSKEY')"
   ]
  }
 ],
 "metadata": {
  "kernelspec": {
   "display_name": "Python 3",
   "language": "python",
   "name": "python3"
  },
  "language_info": {
   "codemirror_mode": {
    "name": "ipython",
    "version": 3
   },
   "file_extension": ".py",
   "mimetype": "text/x-python",
   "name": "python",
   "nbconvert_exporter": "python",
   "pygments_lexer": "ipython3",
   "version": "3.6.8"
  }
 },
 "nbformat": 4,
 "nbformat_minor": 4
}
