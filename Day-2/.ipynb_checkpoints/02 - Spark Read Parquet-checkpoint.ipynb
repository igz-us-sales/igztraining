{
 "cells": [
  {
   "cell_type": "code",
   "execution_count": 20,
   "metadata": {},
   "outputs": [],
   "source": [
    "import os"
   ]
  },
  {
   "cell_type": "code",
   "execution_count": 21,
   "metadata": {},
   "outputs": [],
   "source": [
    "# Set generic variables\n",
    "%run set_env.ipynb"
   ]
  },
  {
   "cell_type": "code",
   "execution_count": 22,
   "metadata": {},
   "outputs": [],
   "source": [
    "from pyspark import SparkConf\n",
    "from pyspark.sql import SparkSession\n",
    "spark = SparkSession.builder.appName(\"Spark Session with Default Configurations\").getOrCreate()"
   ]
  },
  {
   "cell_type": "markdown",
   "metadata": {},
   "source": [
    "### Set path to Parquet file(s) in the Iguazio Platform"
   ]
  },
  {
   "cell_type": "code",
   "execution_count": 22,
   "metadata": {},
   "outputs": [
    {
     "data": {
      "text/plain": [
       "'v3io://users/admin/data/weather_parquet_spark_snappy/'"
      ]
     },
     "execution_count": 22,
     "metadata": {},
     "output_type": "execute_result"
    }
   ],
   "source": [
    "file_path = os.path.join(os.getenv('V3IO_HOME_URL')+'/%s'% parquet_file)\n",
    "file_path"
   ]
  },
  {
   "cell_type": "markdown",
   "metadata": {},
   "source": [
    "### Load Spark Dataframe from Parquet"
   ]
  },
  {
   "cell_type": "code",
   "execution_count": 23,
   "metadata": {},
   "outputs": [
    {
     "name": "stdout",
     "output_type": "stream",
     "text": [
      "CPU times: user 871 µs, sys: 1.85 ms, total: 2.72 ms\n",
      "Wall time: 2.58 s\n"
     ]
    }
   ],
   "source": [
    "%%time\n",
    "df = spark.read\\\n",
    "    .format(\"parquet\")\\\n",
    "    .load(file_path)"
   ]
  },
  {
   "cell_type": "markdown",
   "metadata": {},
   "source": [
    "### Explore Spark Dataframe"
   ]
  },
  {
   "cell_type": "code",
   "execution_count": 24,
   "metadata": {},
   "outputs": [
    {
     "name": "stdout",
     "output_type": "stream",
     "text": [
      "CPU times: user 4.1 ms, sys: 102 µs, total: 4.21 ms\n",
      "Wall time: 2.46 s\n"
     ]
    },
    {
     "data": {
      "text/plain": [
       "[Row(usaf='724085', wban=94732, datetime=datetime.datetime(2020, 6, 15, 0, 54), latitude=40.079, longitude=-75.013, elevation=36.0, windAngle=110.0, windSpeed=3.1, temperature=19.4, seaLvlPressure=1028.3, cloudCoverage='CLR', presentWeatherIndicator=None, pastWeatherIndicator=None, precipTime=1.0, precipDepth=0.0, snowDepth=None, stationName='NE PHILADELPHIA AIRPORT', countryOrRegion='US', p_k='724085-94732', year=2020, day=15, version=1.0),\n",
       " Row(usaf='275185', wban=99999, datetime=datetime.datetime(2020, 6, 15, 10, 30), latitude=55.592, longitude=37.260999999999996, elevation=209.0, windAngle=100.0, windSpeed=5.0, temperature=20.0, seaLvlPressure=None, cloudCoverage=None, presentWeatherIndicator=None, pastWeatherIndicator=None, precipTime=None, precipDepth=None, snowDepth=None, stationName='VNUKOVO', countryOrRegion='RS', p_k='275185-99999', year=2020, day=15, version=1.0),\n",
       " Row(usaf='722040', wban=12838, datetime=datetime.datetime(2020, 6, 24, 5, 53), latitude=28.101, longitude=-80.64399999999999, elevation=8.0, windAngle=260.0, windSpeed=2.1, temperature=23.9, seaLvlPressure=1016.1, cloudCoverage='CLR', presentWeatherIndicator=None, pastWeatherIndicator=None, precipTime=6.0, precipDepth=3.0, snowDepth=None, stationName='MELBOURNE INTL AP', countryOrRegion='US', p_k='722040-12838', year=2020, day=24, version=1.0),\n",
       " Row(usaf='34920', wban=99999, datetime=datetime.datetime(2020, 6, 27, 7, 50), latitude=52.676, longitude=1.2830000000000001, elevation=36.0, windAngle=170.0, windSpeed=4.1, temperature=18.0, seaLvlPressure=None, cloudCoverage=None, presentWeatherIndicator=80.0, pastWeatherIndicator=None, precipTime=None, precipDepth=None, snowDepth=None, stationName='NORWICH', countryOrRegion='UK', p_k='034920-99999', year=2020, day=27, version=1.0),\n",
       " Row(usaf='725610', wban=24030, datetime=datetime.datetime(2020, 6, 18, 11, 53), latitude=41.099, longitude=-102.986, elevation=1312.0, windAngle=340.0, windSpeed=8.8, temperature=None, seaLvlPressure=None, cloudCoverage=None, presentWeatherIndicator=None, pastWeatherIndicator=None, precipTime=1.0, precipDepth=0.0, snowDepth=None, stationName='SIDNEY MUNICIPAL AIRPORT', countryOrRegion='US', p_k='725610-24030', year=2020, day=18, version=1.0)]"
      ]
     },
     "execution_count": 24,
     "metadata": {},
     "output_type": "execute_result"
    }
   ],
   "source": [
    "%%time\n",
    "df.head(5)"
   ]
  },
  {
   "cell_type": "code",
   "execution_count": 5,
   "metadata": {},
   "outputs": [
    {
     "name": "stdout",
     "output_type": "stream",
     "text": [
      "CPU times: user 61 ms, sys: 12.9 ms, total: 73.9 ms\n",
      "Wall time: 8min 56s\n"
     ]
    },
    {
     "data": {
      "text/plain": [
       "DataFrame[summary: string, usaf: string, wban: string, latitude: string, longitude: string, elevation: string, windAngle: string, windSpeed: string, temperature: string, seaLvlPressure: string, cloudCoverage: string, presentWeatherIndicator: string, pastWeatherIndicator: string, precipTime: string, precipDepth: string, snowDepth: string, stationName: string, countryOrRegion: string, p_k: string, year: string, day: string, version: string]"
      ]
     },
     "execution_count": 5,
     "metadata": {},
     "output_type": "execute_result"
    }
   ],
   "source": [
    "%%time\n",
    "df.describe()"
   ]
  },
  {
   "cell_type": "code",
   "execution_count": 26,
   "metadata": {},
   "outputs": [
    {
     "name": "stdout",
     "output_type": "stream",
     "text": [
      "CPU times: user 1.44 ms, sys: 1.08 ms, total: 2.52 ms\n",
      "Wall time: 6.71 s\n"
     ]
    },
    {
     "data": {
      "text/plain": [
       "146451216"
      ]
     },
     "execution_count": 26,
     "metadata": {},
     "output_type": "execute_result"
    }
   ],
   "source": [
    "%%time\n",
    "df.count()"
   ]
  },
  {
   "cell_type": "markdown",
   "metadata": {},
   "source": [
    "### Print Dataframe Schema\n",
    "NOTE: We will use this schema to create a Hive table \n",
    "\n",
    "SQL file : weathercsv-parquet_external.sql"
   ]
  },
  {
   "cell_type": "code",
   "execution_count": 25,
   "metadata": {},
   "outputs": [
    {
     "name": "stdout",
     "output_type": "stream",
     "text": [
      "root\n",
      " |-- usaf: string (nullable = true)\n",
      " |-- wban: integer (nullable = true)\n",
      " |-- datetime: timestamp (nullable = true)\n",
      " |-- latitude: double (nullable = true)\n",
      " |-- longitude: double (nullable = true)\n",
      " |-- elevation: double (nullable = true)\n",
      " |-- windAngle: double (nullable = true)\n",
      " |-- windSpeed: double (nullable = true)\n",
      " |-- temperature: double (nullable = true)\n",
      " |-- seaLvlPressure: double (nullable = true)\n",
      " |-- cloudCoverage: string (nullable = true)\n",
      " |-- presentWeatherIndicator: double (nullable = true)\n",
      " |-- pastWeatherIndicator: double (nullable = true)\n",
      " |-- precipTime: double (nullable = true)\n",
      " |-- precipDepth: double (nullable = true)\n",
      " |-- snowDepth: double (nullable = true)\n",
      " |-- stationName: string (nullable = true)\n",
      " |-- countryOrRegion: string (nullable = true)\n",
      " |-- p_k: string (nullable = true)\n",
      " |-- year: integer (nullable = true)\n",
      " |-- day: integer (nullable = true)\n",
      " |-- version: double (nullable = true)\n",
      "\n",
      "CPU times: user 0 ns, sys: 820 µs, total: 820 µs\n",
      "Wall time: 528 µs\n"
     ]
    }
   ],
   "source": [
    "%%time\n",
    "df.printSchema()"
   ]
  },
  {
   "cell_type": "markdown",
   "metadata": {},
   "source": [
    "### Prep Dataframe for SparkSQL "
   ]
  },
  {
   "cell_type": "code",
   "execution_count": 27,
   "metadata": {},
   "outputs": [
    {
     "name": "stdout",
     "output_type": "stream",
     "text": [
      "CPU times: user 690 µs, sys: 1 ms, total: 1.69 ms\n",
      "Wall time: 35.6 ms\n"
     ]
    }
   ],
   "source": [
    "%%time\n",
    "df.createOrReplaceTempView('weather')"
   ]
  },
  {
   "cell_type": "code",
   "execution_count": 10,
   "metadata": {},
   "outputs": [
    {
     "name": "stdout",
     "output_type": "stream",
     "text": [
      "CPU times: user 1.55 ms, sys: 153 µs, total: 1.71 ms\n",
      "Wall time: 78.9 ms\n"
     ]
    }
   ],
   "source": [
    "%%time\n",
    "sqlDF = spark.sql(\"SELECT * FROM weather limit 10\")"
   ]
  },
  {
   "cell_type": "code",
   "execution_count": 28,
   "metadata": {},
   "outputs": [
    {
     "name": "stdout",
     "output_type": "stream",
     "text": [
      "CPU times: user 349 µs, sys: 859 µs, total: 1.21 ms\n",
      "Wall time: 9.57 ms\n"
     ]
    }
   ],
   "source": [
    "%%time\n",
    "sqlDF = spark.sql(\"SELECT wban,count(*) FROM weather group by wban\")"
   ]
  },
  {
   "cell_type": "code",
   "execution_count": 30,
   "metadata": {},
   "outputs": [
    {
     "name": "stdout",
     "output_type": "stream",
     "text": [
      "+-----+--------+\n",
      "| wban|count(1)|\n",
      "+-----+--------+\n",
      "|  471|   29633|\n",
      "|34061|   27370|\n",
      "|94950|   13127|\n",
      "|26623|   13533|\n",
      "|26425|   15007|\n",
      "| 3997|   13363|\n",
      "|23271|     745|\n",
      "| 4935|   29527|\n",
      "|22521|   12568|\n",
      "|  463|   29459|\n",
      "|  148|   29161|\n",
      "| 3918|   13467|\n",
      "|13840|   13735|\n",
      "| 3749|     732|\n",
      "|93037|   11664|\n",
      "|54844|   38216|\n",
      "|  243|   25490|\n",
      "|23136|   12324|\n",
      "|  392|   45309|\n",
      "| 4929|   39244|\n",
      "+-----+--------+\n",
      "only showing top 20 rows\n",
      "\n",
      "CPU times: user 2.44 ms, sys: 258 µs, total: 2.7 ms\n",
      "Wall time: 5.83 s\n"
     ]
    }
   ],
   "source": [
    "%%time\n",
    "sqlDF.show()"
   ]
  },
  {
   "cell_type": "markdown",
   "metadata": {},
   "source": [
    "### Get WBAN list\n",
    "Loading a data set to do Joins next\n"
   ]
  },
  {
   "cell_type": "code",
   "execution_count": 33,
   "metadata": {},
   "outputs": [
    {
     "data": {
      "text/plain": [
       "'v3io://users/admin/data/wbanmasterlist.parquet/wbanmasterlist.parquet'"
      ]
     },
     "execution_count": 33,
     "metadata": {},
     "output_type": "execute_result"
    }
   ],
   "source": [
    "file_path = os.path.join(os.getenv('V3IO_HOME_URL')+'/%s'% 'data/wbanmasterlist.parquet/wbanmasterlist.parquet')\n",
    "file_path"
   ]
  },
  {
   "cell_type": "code",
   "execution_count": 34,
   "metadata": {},
   "outputs": [
    {
     "name": "stdout",
     "output_type": "stream",
     "text": [
      "CPU times: user 1.98 ms, sys: 98 µs, total: 2.08 ms\n",
      "Wall time: 164 ms\n"
     ]
    }
   ],
   "source": [
    "%%time\n",
    "df = spark.read\\\n",
    "    .format(\"parquet\")\\\n",
    "    .load(file_path)"
   ]
  },
  {
   "cell_type": "code",
   "execution_count": 35,
   "metadata": {},
   "outputs": [
    {
     "name": "stdout",
     "output_type": "stream",
     "text": [
      "root\n",
      " |-- REGION: string (nullable = true)\n",
      " |-- WBAN_ID: long (nullable = true)\n",
      " |-- STATION_NAME: string (nullable = true)\n",
      " |-- STATE_PROVINCE: string (nullable = true)\n",
      " |-- COUNTY: string (nullable = true)\n",
      " |-- COUNTRY: string (nullable = true)\n",
      " |-- EXTENDED_NAME: string (nullable = true)\n",
      " |-- CALL_SIGN: string (nullable = true)\n",
      " |-- STATION_TYPE: string (nullable = true)\n",
      " |-- DATE_ASSIGNED: string (nullable = true)\n",
      " |-- BEGIN_DATE: string (nullable = true)\n",
      " |-- COMMENTS: string (nullable = true)\n",
      " |-- LOCATION: string (nullable = true)\n",
      " |-- ELEV_OTHER: string (nullable = true)\n",
      " |-- ELEV_GROUND: string (nullable = true)\n",
      " |-- ELEV_RUNWAY: string (nullable = true)\n",
      " |-- ELEV_BAROMETRIC: string (nullable = true)\n",
      " |-- ELEV_STATION: string (nullable = true)\n",
      " |-- ELEV_UPPER_AIR: string (nullable = true)\n",
      " |-- __null_dask_index__: long (nullable = true)\n",
      "\n"
     ]
    }
   ],
   "source": [
    "df.printSchema()\n",
    "# Schema notes  for Hive table\n",
    "# Type long change to integer\n",
    "# Column with __ in name quote with `\n",
    "# SQL file: wbanmasterlist_external.sql"
   ]
  },
  {
   "cell_type": "code",
   "execution_count": 36,
   "metadata": {},
   "outputs": [
    {
     "name": "stdout",
     "output_type": "stream",
     "text": [
      "CPU times: user 907 µs, sys: 1.18 ms, total: 2.09 ms\n",
      "Wall time: 1.03 s\n"
     ]
    }
   ],
   "source": [
    "%%time\n",
    "df.write.parquet(\"v3io://users/admin/data/wbanmasterlist_spark_parquet/\", mode='overwrite')"
   ]
  },
  {
   "cell_type": "code",
   "execution_count": 12,
   "metadata": {},
   "outputs": [],
   "source": [
    "spark.stop()"
   ]
  },
  {
   "cell_type": "code",
   "execution_count": null,
   "metadata": {},
   "outputs": [],
   "source": []
  }
 ],
 "metadata": {
  "kernelspec": {
   "display_name": "Python 3",
   "language": "python",
   "name": "python3"
  },
  "language_info": {
   "codemirror_mode": {
    "name": "ipython",
    "version": 3
   },
   "file_extension": ".py",
   "mimetype": "text/x-python",
   "name": "python",
   "nbconvert_exporter": "python",
   "pygments_lexer": "ipython3",
   "version": "3.6.8"
  }
 },
 "nbformat": 4,
 "nbformat_minor": 4
}
