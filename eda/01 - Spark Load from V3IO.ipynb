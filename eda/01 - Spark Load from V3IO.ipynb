{
 "cells": [
  {
   "cell_type": "code",
   "execution_count": 4,
   "metadata": {},
   "outputs": [],
   "source": [
    "import os"
   ]
  },
  {
   "cell_type": "code",
   "execution_count": 5,
   "metadata": {},
   "outputs": [],
   "source": [
    "# Set generic variables\n",
    "%run set_env.ipynb"
   ]
  },
  {
   "cell_type": "code",
   "execution_count": 6,
   "metadata": {},
   "outputs": [],
   "source": [
    "from pyspark import SparkConf\n",
    "from pyspark.sql import SparkSession\n",
    "spark = SparkSession.builder.appName(\"Spark Session with Default Configurations\").getOrCreate()"
   ]
  },
  {
   "cell_type": "markdown",
   "metadata": {},
   "source": [
    "### Set path to CSV file in the Iguazio Platform"
   ]
  },
  {
   "cell_type": "code",
   "execution_count": null,
   "metadata": {},
   "outputs": [],
   "source": [
    "file_path = os.path.join(os.getenv('V3IO_HOME_URL')+'/%s'% csv_file)\n",
    "file_path"
   ]
  },
  {
   "cell_type": "markdown",
   "metadata": {},
   "source": [
    "## Load CSV file into a Spark Dataframe"
   ]
  },
  {
   "cell_type": "code",
   "execution_count": 7,
   "metadata": {},
   "outputs": [
    {
     "name": "stdout",
     "output_type": "stream",
     "text": [
      "CPU times: user 63.7 ms, sys: 16.3 ms, total: 80.1 ms\n",
      "Wall time: 9min 8s\n"
     ]
    }
   ],
   "source": [
    "%%time\n",
    "df = spark.read\\\n",
    "    .format(\"csv\")\\\n",
    "    .option(\"header\", \"true\")\\\n",
    "    .option(\"inferSchema\", \"true\")\\\n",
    "    .load(file_path)"
   ]
  },
  {
   "cell_type": "markdown",
   "metadata": {},
   "source": [
    "### Explore Dataframe"
   ]
  },
  {
   "cell_type": "code",
   "execution_count": 10,
   "metadata": {},
   "outputs": [
    {
     "name": "stdout",
     "output_type": "stream",
     "text": [
      "CPU times: user 5.59 ms, sys: 0 ns, total: 5.59 ms\n",
      "Wall time: 259 ms\n"
     ]
    },
    {
     "data": {
      "text/plain": [
       "[Row(usaf='999999', wban=4237, datetime=datetime.datetime(2020, 6, 13, 4, 0), latitude=47.513999999999996, longitude=-123.81200000000001, elevation=87.0, windAngle=0.0, windSpeed=0.0, temperature=11.7, seaLvlPressure=None, cloudCoverage=None, presentWeatherIndicator=None, pastWeatherIndicator=None, precipTime=1.0, precipDepth=2.0, snowDepth=None, stationName='QUINAULT 4 NE', countryOrRegion='US', p_k='999999-04237', year=2020, day=13, version=1.0),\n",
       " Row(usaf='999999', wban=4990, datetime=datetime.datetime(2020, 6, 30, 7, 20), latitude=43.735, longitude=-96.62200000000001, elevation=486.0, windAngle=None, windSpeed=None, temperature=24.0, seaLvlPressure=None, cloudCoverage=None, presentWeatherIndicator=None, pastWeatherIndicator=None, precipTime=None, precipDepth=None, snowDepth=None, stationName='SIOUX FALLS 14 NNE', countryOrRegion='US', p_k='999999-04990', year=2020, day=30, version=1.0),\n",
       " Row(usaf='999999', wban=4223, datetime=datetime.datetime(2020, 6, 17, 1, 50), latitude=48.541000000000004, longitude=-121.446, elevation=124.0, windAngle=None, windSpeed=None, temperature=14.6, seaLvlPressure=None, cloudCoverage=None, presentWeatherIndicator=None, pastWeatherIndicator=None, precipTime=None, precipDepth=None, snowDepth=None, stationName='DARRINGTON 21 NNE', countryOrRegion='US', p_k='999999-04223', year=2020, day=17, version=1.0),\n",
       " Row(usaf='999999', wban=4237, datetime=datetime.datetime(2020, 6, 16, 6, 55), latitude=47.513999999999996, longitude=-123.81200000000001, elevation=87.0, windAngle=None, windSpeed=None, temperature=9.5, seaLvlPressure=None, cloudCoverage=None, presentWeatherIndicator=None, pastWeatherIndicator=None, precipTime=None, precipDepth=None, snowDepth=None, stationName='QUINAULT 4 NE', countryOrRegion='US', p_k='999999-04237', year=2020, day=16, version=1.0),\n",
       " Row(usaf='999999', wban=23803, datetime=datetime.datetime(2020, 6, 29, 6, 30), latitude=34.821999999999996, longitude=-89.435, elevation=148.0, windAngle=None, windSpeed=None, temperature=23.7, seaLvlPressure=None, cloudCoverage=None, presentWeatherIndicator=None, pastWeatherIndicator=None, precipTime=None, precipDepth=None, snowDepth=None, stationName='HOLLY SPRINGS 4 N', countryOrRegion='US', p_k='999999-23803', year=2020, day=29, version=1.0)]"
      ]
     },
     "execution_count": 10,
     "metadata": {},
     "output_type": "execute_result"
    }
   ],
   "source": [
    "%%time\n",
    "df.head(5)"
   ]
  },
  {
   "cell_type": "code",
   "execution_count": 11,
   "metadata": {},
   "outputs": [
    {
     "name": "stdout",
     "output_type": "stream",
     "text": [
      "CPU times: user 88.3 ms, sys: 9.27 ms, total: 97.6 ms\n",
      "Wall time: 11min 38s\n"
     ]
    },
    {
     "data": {
      "text/plain": [
       "DataFrame[summary: string, usaf: string, wban: string, latitude: string, longitude: string, elevation: string, windAngle: string, windSpeed: string, temperature: string, seaLvlPressure: string, cloudCoverage: string, presentWeatherIndicator: string, pastWeatherIndicator: string, precipTime: string, precipDepth: string, snowDepth: string, stationName: string, countryOrRegion: string, p_k: string, year: string, day: string, version: string]"
      ]
     },
     "execution_count": 11,
     "metadata": {},
     "output_type": "execute_result"
    }
   ],
   "source": [
    "%%time\n",
    "df.describe()"
   ]
  },
  {
   "cell_type": "code",
   "execution_count": 12,
   "metadata": {},
   "outputs": [
    {
     "name": "stdout",
     "output_type": "stream",
     "text": [
      "CPU times: user 5.98 ms, sys: 470 µs, total: 6.45 ms\n",
      "Wall time: 36.1 s\n"
     ]
    },
    {
     "data": {
      "text/plain": [
       "146451216"
      ]
     },
     "execution_count": 12,
     "metadata": {},
     "output_type": "execute_result"
    }
   ],
   "source": [
    "%%time\n",
    "df.count()"
   ]
  },
  {
   "cell_type": "markdown",
   "metadata": {},
   "source": [
    "### Prep Dataframe for SparkSQL "
   ]
  },
  {
   "cell_type": "code",
   "execution_count": 9,
   "metadata": {},
   "outputs": [
    {
     "name": "stdout",
     "output_type": "stream",
     "text": [
      "CPU times: user 1.5 ms, sys: 224 µs, total: 1.73 ms\n",
      "Wall time: 24.4 ms\n"
     ]
    }
   ],
   "source": [
    "%%time\n",
    "df.createOrReplaceTempView('weather')"
   ]
  },
  {
   "cell_type": "code",
   "execution_count": 14,
   "metadata": {},
   "outputs": [
    {
     "name": "stdout",
     "output_type": "stream",
     "text": [
      "CPU times: user 0 ns, sys: 2.06 ms, total: 2.06 ms\n",
      "Wall time: 99 ms\n"
     ]
    }
   ],
   "source": [
    "%%time\n",
    "sqlDF = spark.sql(\"SELECT * FROM weather limit 10\")"
   ]
  },
  {
   "cell_type": "code",
   "execution_count": 10,
   "metadata": {},
   "outputs": [
    {
     "name": "stdout",
     "output_type": "stream",
     "text": [
      "CPU times: user 782 µs, sys: 1.03 ms, total: 1.81 ms\n",
      "Wall time: 28.2 ms\n"
     ]
    }
   ],
   "source": [
    "%%time\n",
    "sqlDF = spark.sql(\"SELECT wban,count(*) FROM weather group by wban\")"
   ]
  },
  {
   "cell_type": "code",
   "execution_count": 11,
   "metadata": {},
   "outputs": [
    {
     "name": "stdout",
     "output_type": "stream",
     "text": [
      "+-----+--------+\n",
      "| wban|count(1)|\n",
      "+-----+--------+\n",
      "|  471|   29633|\n",
      "|34061|   27370|\n",
      "|94950|   13127|\n",
      "|26623|   13533|\n",
      "|26425|   15007|\n",
      "| 3997|   13363|\n",
      "| 3749|     732|\n",
      "|23271|     745|\n",
      "| 4935|   29527|\n",
      "|22521|   12568|\n",
      "|  463|   29459|\n",
      "|  148|   29161|\n",
      "|13840|   13735|\n",
      "| 3918|   13467|\n",
      "| 3179|   12358|\n",
      "|93037|   11664|\n",
      "|54844|   38216|\n",
      "|  243|   25490|\n",
      "|23136|   12324|\n",
      "|  392|   45309|\n",
      "+-----+--------+\n",
      "only showing top 20 rows\n",
      "\n",
      "CPU times: user 7.02 ms, sys: 3.95 ms, total: 11 ms\n",
      "Wall time: 1min 5s\n"
     ]
    }
   ],
   "source": [
    "%%time\n",
    "sqlDF.show()"
   ]
  },
  {
   "cell_type": "markdown",
   "metadata": {},
   "source": [
    "### Write Dataframe to Parquet"
   ]
  },
  {
   "cell_type": "code",
   "execution_count": 16,
   "metadata": {},
   "outputs": [
    {
     "name": "stdout",
     "output_type": "stream",
     "text": [
      "CPU times: user 51.6 ms, sys: 10.8 ms, total: 62.4 ms\n",
      "Wall time: 7min 9s\n"
     ]
    }
   ],
   "source": [
    "%%time\n",
    "df.write.parquet(\"v3io://users/admin/data/weather_parquet_spark_snappy/\", mode='overwrite',compression='snappy')"
   ]
  },
  {
   "cell_type": "code",
   "execution_count": 17,
   "metadata": {},
   "outputs": [
    {
     "name": "stdout",
     "output_type": "stream",
     "text": [
      "CPU times: user 49.2 ms, sys: 11.6 ms, total: 60.7 ms\n",
      "Wall time: 7min\n"
     ]
    }
   ],
   "source": [
    "%%time\n",
    "df.write.parquet(\"v3io://users/admin/data/weather_parquet_spark_no_compress/\", mode='overwrite')"
   ]
  },
  {
   "cell_type": "code",
   "execution_count": 18,
   "metadata": {},
   "outputs": [],
   "source": [
    "spark.stop()"
   ]
  },
  {
   "cell_type": "code",
   "execution_count": null,
   "metadata": {},
   "outputs": [],
   "source": []
  }
 ],
 "metadata": {
  "kernelspec": {
   "display_name": "Python 3",
   "language": "python",
   "name": "python3"
  },
  "language_info": {
   "codemirror_mode": {
    "name": "ipython",
    "version": 3
   },
   "file_extension": ".py",
   "mimetype": "text/x-python",
   "name": "python",
   "nbconvert_exporter": "python",
   "pygments_lexer": "ipython3",
   "version": "3.6.8"
  }
 },
 "nbformat": 4,
 "nbformat_minor": 4
}
