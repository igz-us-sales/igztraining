{
 "cells": [
  {
   "cell_type": "code",
   "execution_count": 27,
   "metadata": {},
   "outputs": [],
   "source": [
    "import nuclio"
   ]
  },
  {
   "cell_type": "code",
   "execution_count": 28,
   "metadata": {},
   "outputs": [],
   "source": [
    "# nuclio: start-code"
   ]
  },
  {
   "cell_type": "code",
   "execution_count": 29,
   "metadata": {},
   "outputs": [],
   "source": [
    "import time\n",
    "from os import path, getenv\n",
    "import os\n",
    "from mlrun import load_project"
   ]
  },
  {
   "cell_type": "code",
   "execution_count": 30,
   "metadata": {},
   "outputs": [],
   "source": [
    "def init_context(context):\n",
    "    setattr(context.user_data,'project',load_project('/User/projects/deploy',url='/User/igztraining/mlrun/Day-4/conf/project.yaml'))\n",
    "    pass"
   ]
  },
  {
   "cell_type": "code",
   "execution_count": 31,
   "metadata": {},
   "outputs": [],
   "source": [
    "def handler(context,event):\n",
    "    if 'source_file' in event.fields:\n",
    "        source_file = event.fields['source_file']\n",
    "    else:\n",
    "        source_file = 'demo.csv'\n",
    "    os.chdir('/User/igztraining/mlrun/Day-4/conf/')\n",
    "    arguments = {\"source_file\" : \"/User/igztraining/mlrun/Day-4/data/%s\"% source_file}\n",
    "    run_id = context.user_data.project.run(\n",
    "    'main',\n",
    "    arguments=arguments, \n",
    "    artifact_path=path.join('/User/pipeline','{{workflow.uid}}'), \n",
    "    dirty=True)\n",
    "    \n",
    "    return\n"
   ]
  },
  {
   "cell_type": "code",
   "execution_count": 32,
   "metadata": {},
   "outputs": [],
   "source": [
    "# nuclio: end-code"
   ]
  },
  {
   "cell_type": "code",
   "execution_count": 33,
   "metadata": {},
   "outputs": [],
   "source": [
    "from mlrun import code_to_function, mount_v3io"
   ]
  },
  {
   "cell_type": "code",
   "execution_count": 34,
   "metadata": {},
   "outputs": [],
   "source": [
    "fn = code_to_function(kind='nuclio')"
   ]
  },
  {
   "cell_type": "code",
   "execution_count": 35,
   "metadata": {},
   "outputs": [],
   "source": [
    "fn.apply(mount_v3io())\n",
    "fn.spec.build.commands = ['pip install mlrun==0.5.1']"
   ]
  },
  {
   "cell_type": "code",
   "execution_count": 36,
   "metadata": {},
   "outputs": [
    {
     "data": {
      "text/plain": [
       "<mlrun.runtimes.function.RemoteRuntime at 0x7f2ce6f44ef0>"
      ]
     },
     "execution_count": 36,
     "metadata": {},
     "output_type": "execute_result"
    }
   ],
   "source": [
    "trigger_spec={\n",
    "              'kind': 'cron',\n",
    "            \"maxWorkers\" : 1,\n",
    "            'attributes': {\"interval\": '10m'\n",
    "              }\n",
    "            }\n",
    "fn.add_trigger('input-stream',trigger_spec)\n"
   ]
  },
  {
   "cell_type": "code",
   "execution_count": 37,
   "metadata": {},
   "outputs": [],
   "source": [
    "fn.spec.min_replicas = 1\n",
    "fn.spec.max_replicas = 1"
   ]
  },
  {
   "cell_type": "code",
   "execution_count": 38,
   "metadata": {},
   "outputs": [
    {
     "name": "stdout",
     "output_type": "stream",
     "text": [
      "> 2020-09-30 12:07:13,666 [info] deploy started\n",
      "[nuclio] 2020-09-30 12:07:14,764 (info) Build complete\n",
      "[nuclio] 2020-09-30 12:07:24,876 (info) Function deploy complete\n",
      "[nuclio] 2020-09-30 12:07:24,884 done updating ecolab-nuclio-triggerpipeline, function address: 3.129.97.78:30997\n"
     ]
    }
   ],
   "source": [
    "addr = fn.deploy(project='ecolab-nuclio')"
   ]
  },
  {
   "cell_type": "code",
   "execution_count": null,
   "metadata": {},
   "outputs": [],
   "source": []
  }
 ],
 "metadata": {
  "kernelspec": {
   "display_name": "Python 3",
   "language": "python",
   "name": "python3"
  },
  "language_info": {
   "codemirror_mode": {
    "name": "ipython",
    "version": 3
   },
   "file_extension": ".py",
   "mimetype": "text/x-python",
   "name": "python",
   "nbconvert_exporter": "python",
   "pygments_lexer": "ipython3",
   "version": "3.6.8"
  }
 },
 "nbformat": 4,
 "nbformat_minor": 4
}
