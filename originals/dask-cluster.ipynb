{
 "cells": [
  {
   "cell_type": "markdown",
   "metadata": {},
   "source": [
    "# Running Dask on the cluster\n",
    "\n",
    "The dask frameworks enabling users to parallelize internal systems\n",
    "Not all computations fit into a big dataframe. Dask exposes lower-level APIs letting you build custom systems for in-house applications. This helps parallelize python processes and dramatically accelerate their performance\n",
    "\n",
    "Dask Kubernetes deploys Dask workers on Kubernetes clusters using native Kubernetes APIs. It is designed to dynamically launch short-lived deployments of workers during the lifetime of a Python process.\n",
    "\n",
    "Check out this link https://kubernetes.dask.org/en/latest/"
   ]
  },
  {
   "cell_type": "markdown",
   "metadata": {},
   "source": [
    "When user runs dask the frameworks start one or more pods running in parallel on the cluster. Users can define the number of nodes and the minimun and maximum number of pods that the dask framework opens up\n",
    "Scale to zero is achieved by setting the minimum = 0. Setting it to zero delete the pods once the job is done and free up the resources "
   ]
  },
  {
   "cell_type": "code",
   "execution_count": 1,
   "metadata": {
    "scrolled": true
   },
   "outputs": [],
   "source": [
    "!pip install dask distributed\n",
    "!pip install dask-kubernetes==0.10.0"
   ]
  },
  {
   "cell_type": "code",
   "execution_count": 2,
   "metadata": {},
   "outputs": [],
   "source": [
    "from dask_kubernetes import KubeCluster\n",
    "\n",
    "cluster = KubeCluster.from_yaml('worker-spec.yml')\n",
    "cluster.scale_up(4)  # specify number of nodes explicitly\n",
    "\n",
    "cluster.adapt(minimum=2, maximum=5)  # or dynamically scale based on current workload"
   ]
  },
  {
   "cell_type": "markdown",
   "metadata": {},
   "source": [
    "to view the pods that are running"
   ]
  },
  {
   "cell_type": "code",
   "execution_count": 3,
   "metadata": {},
   "outputs": [],
   "source": [
    "!kubectl  -n default-tenant get pods | grep dask"
   ]
  },
  {
   "cell_type": "code",
   "execution_count": 4,
   "metadata": {
    "scrolled": true
   },
   "outputs": [],
   "source": [
    "# Example usage\n",
    "import distributed\n",
    "import dask.array as da\n",
    "\n",
    "# Connect dask to the cluster\n",
    "client = distributed.Client(cluster)\n",
    "\n",
    "# Create an array and calculate the mean\n",
    "array = da.ones((1000, 1000, 1000), chunks=(100, 100, 10))\n",
    "print(array.mean().compute())  # Should print 1.0"
   ]
  }
 ],
 "metadata": {
  "kernelspec": {
   "display_name": "Python 3",
   "language": "python",
   "name": "python3"
  },
  "language_info": {
   "codemirror_mode": {
    "name": "ipython",
    "version": 3
   },
   "file_extension": ".py",
   "mimetype": "text/x-python",
   "name": "python",
   "nbconvert_exporter": "python",
   "pygments_lexer": "ipython3",
   "version": "3.6.8"
  }
 },
 "nbformat": 4,
 "nbformat_minor": 4
}
