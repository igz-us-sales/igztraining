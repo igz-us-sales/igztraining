{
 "cells": [
  {
   "cell_type": "code",
   "execution_count": 1,
   "metadata": {},
   "outputs": [],
   "source": [
    "import v3io_frames as v3f"
   ]
  },
  {
   "cell_type": "code",
   "execution_count": 2,
   "metadata": {},
   "outputs": [],
   "source": [
    "# Create a V3IO Frames client for the \"users\" data container\n",
    "client = v3f.Client(\"framesd:8081\", container=\"users\")"
   ]
  },
  {
   "cell_type": "code",
   "execution_count": 7,
   "metadata": {},
   "outputs": [],
   "source": [
    "stream = \"admin/examples/stream1\""
   ]
  },
  {
   "cell_type": "code",
   "execution_count": 5,
   "metadata": {},
   "outputs": [],
   "source": [
    "client.create(\"stream\", table=stream, retention_hours=2)"
   ]
  },
  {
   "cell_type": "code",
   "execution_count": 6,
   "metadata": {},
   "outputs": [],
   "source": [
    "import numpy as np\n",
    "df = pd.DataFrame(np.random.rand(9, 3) * 100,\n",
    "                  columns=[\"cpu\", \"mem\", \"disk\"])\n",
    "client.write(\"stream\", table=\"admin/examples/stream1\", dfs=df)"
   ]
  },
  {
   "cell_type": "code",
   "execution_count": null,
   "metadata": {},
   "outputs": [],
   "source": []
  },
  {
   "cell_type": "code",
   "execution_count": 8,
   "metadata": {},
   "outputs": [],
   "source": [
    "import requests\n",
    "import json\n",
    "import base64\n",
    "import os\n",
    "import time"
   ]
  },
  {
   "cell_type": "code",
   "execution_count": 12,
   "metadata": {},
   "outputs": [],
   "source": [
    "shardId = 0\n",
    "def seek_location(shardId: int = 0,\n",
    "                  container: str = '',\n",
    "                  stream: str = \"\",\n",
    "                  url = '',\n",
    "                 headers = ''):\n",
    "    payload = {\n",
    "            \"ShardId\": shardId,\n",
    "            \"Type\": \"EARLIEST\"\n",
    "          }\n",
    "    headers[\"X-v3io-function\"] = \"Seek\"\n",
    "    r = requests.post(url, headers=headers,json=payload)\n",
    "    return json.loads(r.text)['Location']"
   ]
  },
  {
   "cell_type": "code",
   "execution_count": 14,
   "metadata": {},
   "outputs": [
    {
     "name": "stdout",
     "output_type": "stream",
     "text": [
      "{ \"NextLocation\":\"AQAAAAEAAAAAAID3AAAAAA==\",\"MSecBehindLatest\":0,\"RecordsBehindLatest\":0,\"RecordsNum\":9,\"Records\": [{ \"SequenceNumber\":1,\"Data\":\"eyJjcHUiOjguMTM4NzAwNTkzNjU5NDIsImRpc2siOjIyLjI4MzQyMDg0MTQ4OTYwOCwibWVtIjo4NC4zNDk0NDU1OTcxMTcwNH0=\",\"ArrivalTimeSec\":1594153589,\"ArrivalTimeNSec\":548772920 },{ \"SequenceNumber\":2,\"Data\":\"eyJjcHUiOjg3LjcyMDc2OTkzMDcwODgsImRpc2siOjY0LjU5NDMyNjA4MTY4Mzc1LCJtZW0iOjUzLjI2NDE1NDk1ODQ0MjN9\",\"ArrivalTimeSec\":1594153589,\"ArrivalTimeNSec\":548772920 },{ \"SequenceNumber\":3,\"Data\":\"eyJjcHUiOjY1LjE1Nzg3MDQ1Nzc5OTYyLCJkaXNrIjo5NS42ODUyOTkzMTMyNjE1MiwibWVtIjo3MS4zNjkxNjc1MTE2MzM5OH0=\",\"ArrivalTimeSec\":1594153589,\"ArrivalTimeNSec\":548772920 },{ \"SequenceNumber\":4,\"Data\":\"eyJjcHUiOjk0LjI4ODMxMzgzMDQyMjA0LCJkaXNrIjo0MS45ODc0ODA2ODExNjQ0NSwibWVtIjoxOS40MTUzNzM1MDI2MDAzNDJ9\",\"ArrivalTimeSec\":1594153589,\"ArrivalTimeNSec\":548772920 },{ \"SequenceNumber\":5,\"Data\":\"eyJjcHUiOjI3LjcyMjEzNjQ4MjM4MTAxLCJkaXNrIjo5Mi45NzQwMTg0MDE3OTk0NywibWVtIjo4Ni40OTQ1ODk1Mjk4ODg3OH0=\",\"ArrivalTimeSec\":1594153589,\"ArrivalTimeNSec\":548772920 },{ \"SequenceNumber\":6,\"Data\":\"eyJjcHUiOjE1LjczMjUwNzE2NTc0MDcyOCwiZGlzayI6Ny42MjMwNjY3MjIzMDIzMywibWVtIjo0Ny44ODgyMjk1NzE4MTE0Nn0=\",\"ArrivalTimeSec\":1594153589,\"ArrivalTimeNSec\":548772920 },{ \"SequenceNumber\":7,\"Data\":\"eyJjcHUiOjgwLjI4NDM5NTQ3MjY3NDA1LCJkaXNrIjo4Ni4wMjI2Nzc5MjA3ODk2MiwibWVtIjo0LjgyMDg2NDc1OTc4NzUxM30=\",\"ArrivalTimeSec\":1594153589,\"ArrivalTimeNSec\":548772920 },{ \"SequenceNumber\":8,\"Data\":\"eyJjcHUiOjI1LjE1MjA3MjU5NDY4MzgxNiwiZGlzayI6NzEuOTgxNDM1MDEzNjYwMjMsIm1lbSI6ODIuNjQ3NTMxNzgyOTg1MTR9\",\"ArrivalTimeSec\":1594153589,\"ArrivalTimeNSec\":548772920 },{ \"SequenceNumber\":9,\"Data\":\"eyJjcHUiOjk2LjA1NDEzNzIyMTkyMzMxLCJkaXNrIjo5NS44NTYxODI0NTc0MTY0MiwibWVtIjo1NS4yNTkzMTc4NDk5NzExNX0=\",\"ArrivalTimeSec\":1594153589,\"ArrivalTimeNSec\":548772920 } ] }\n",
      "{'SequenceNumber': 1, 'Data': 'eyJjcHUiOjguMTM4NzAwNTkzNjU5NDIsImRpc2siOjIyLjI4MzQyMDg0MTQ4OTYwOCwibWVtIjo4NC4zNDk0NDU1OTcxMTcwNH0=', 'ArrivalTimeSec': 1594153589, 'ArrivalTimeNSec': 548772920}\n",
      "{'SequenceNumber': 2, 'Data': 'eyJjcHUiOjg3LjcyMDc2OTkzMDcwODgsImRpc2siOjY0LjU5NDMyNjA4MTY4Mzc1LCJtZW0iOjUzLjI2NDE1NDk1ODQ0MjN9', 'ArrivalTimeSec': 1594153589, 'ArrivalTimeNSec': 548772920}\n",
      "{'SequenceNumber': 3, 'Data': 'eyJjcHUiOjY1LjE1Nzg3MDQ1Nzc5OTYyLCJkaXNrIjo5NS42ODUyOTkzMTMyNjE1MiwibWVtIjo3MS4zNjkxNjc1MTE2MzM5OH0=', 'ArrivalTimeSec': 1594153589, 'ArrivalTimeNSec': 548772920}\n",
      "{'SequenceNumber': 4, 'Data': 'eyJjcHUiOjk0LjI4ODMxMzgzMDQyMjA0LCJkaXNrIjo0MS45ODc0ODA2ODExNjQ0NSwibWVtIjoxOS40MTUzNzM1MDI2MDAzNDJ9', 'ArrivalTimeSec': 1594153589, 'ArrivalTimeNSec': 548772920}\n",
      "{'SequenceNumber': 5, 'Data': 'eyJjcHUiOjI3LjcyMjEzNjQ4MjM4MTAxLCJkaXNrIjo5Mi45NzQwMTg0MDE3OTk0NywibWVtIjo4Ni40OTQ1ODk1Mjk4ODg3OH0=', 'ArrivalTimeSec': 1594153589, 'ArrivalTimeNSec': 548772920}\n",
      "{'SequenceNumber': 6, 'Data': 'eyJjcHUiOjE1LjczMjUwNzE2NTc0MDcyOCwiZGlzayI6Ny42MjMwNjY3MjIzMDIzMywibWVtIjo0Ny44ODgyMjk1NzE4MTE0Nn0=', 'ArrivalTimeSec': 1594153589, 'ArrivalTimeNSec': 548772920}\n",
      "{'SequenceNumber': 7, 'Data': 'eyJjcHUiOjgwLjI4NDM5NTQ3MjY3NDA1LCJkaXNrIjo4Ni4wMjI2Nzc5MjA3ODk2MiwibWVtIjo0LjgyMDg2NDc1OTc4NzUxM30=', 'ArrivalTimeSec': 1594153589, 'ArrivalTimeNSec': 548772920}\n",
      "{'SequenceNumber': 8, 'Data': 'eyJjcHUiOjI1LjE1MjA3MjU5NDY4MzgxNiwiZGlzayI6NzEuOTgxNDM1MDEzNjYwMjMsIm1lbSI6ODIuNjQ3NTMxNzgyOTg1MTR9', 'ArrivalTimeSec': 1594153589, 'ArrivalTimeNSec': 548772920}\n",
      "{'SequenceNumber': 9, 'Data': 'eyJjcHUiOjk2LjA1NDEzNzIyMTkyMzMxLCJkaXNrIjo5NS44NTYxODI0NTc0MTY0MiwibWVtIjo1NS4yNTkzMTc4NDk5NzExNX0=', 'ArrivalTimeSec': 1594153589, 'ArrivalTimeNSec': 548772920}\n"
     ]
    }
   ],
   "source": [
    "# Fire up the Kafka Consumer\n",
    "url = \"http://v3io-webapi:8081/%s/%s/\"% ('users',stream)\n",
    "headers = { \"Content-Type\": \"application/json\",\n",
    "        \"X-v3io-session-key\" : os.getenv(\"V3IO_ACCESS_KEY\")\n",
    "}\n",
    "\n",
    "location = seek_location(shardId=shardId,\n",
    "                         container='users',\n",
    "                         stream=stream,\n",
    "                         url=url,\n",
    "                        headers=headers)\n",
    "img_payload = {\n",
    "        \"ShardId\":    shardId,\n",
    "        \"Location\":   location,\n",
    "    \"Limit\":10\n",
    "}\n",
    "headers[\"X-v3io-function\"] = \"GetRecords\"\n",
    "r = requests.post(url, headers=headers,json=img_payload)\n",
    "print(r.text)\n",
    "response=json.loads(r.text)\n",
    "for record in response['Records']:\n",
    "    print(record)\n"
   ]
  },
  {
   "cell_type": "code",
   "execution_count": null,
   "metadata": {},
   "outputs": [],
   "source": []
  }
 ],
 "metadata": {
  "kernelspec": {
   "display_name": "Python 3",
   "language": "python",
   "name": "python3"
  },
  "language_info": {
   "codemirror_mode": {
    "name": "ipython",
    "version": 3
   },
   "file_extension": ".py",
   "mimetype": "text/x-python",
   "name": "python",
   "nbconvert_exporter": "python",
   "pygments_lexer": "ipython3",
   "version": "3.6.8"
  }
 },
 "nbformat": 4,
 "nbformat_minor": 4
}
